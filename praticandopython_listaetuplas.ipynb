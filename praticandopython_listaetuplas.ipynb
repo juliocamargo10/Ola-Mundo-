{
  "nbformat": 4,
  "nbformat_minor": 0,
  "metadata": {
    "colab": {
      "provenance": [],
      "authorship_tag": "ABX9TyN6wtmziIUnd5BSxthkL9AL",
      "include_colab_link": true
    },
    "kernelspec": {
      "name": "python3",
      "display_name": "Python 3"
    },
    "language_info": {
      "name": "python"
    }
  },
  "cells": [
    {
      "cell_type": "markdown",
      "metadata": {
        "id": "view-in-github",
        "colab_type": "text"
      },
      "source": [
        "<a href=\"https://colab.research.google.com/github/juliocamargo10/Ola-Mundo-/blob/main/praticandopython_listaetuplas.ipynb\" target=\"_parent\"><img src=\"https://colab.research.google.com/assets/colab-badge.svg\" alt=\"Open In Colab\"/></a>"
      ]
    },
    {
      "cell_type": "code",
      "execution_count": null,
      "metadata": {
        "id": "wawXb07Hw191"
      },
      "outputs": [],
      "source": [
        "\n",
        "#TODO EXERCICIO ABAIXO FAZ PARTE DE UM CONJUNTO DE ATIVIDADES PROPOSTOS PELA ALURA NO CURSO PRATICANDO PYTHON : LISTAS E TUPLAS - AULA INICIADA EM 26/03/2025\n",
        "\n",
        "\n",
        "# lista são separadas por colchetes e por virgulas\n",
        "\n",
        "lista = [1, 2, 3]\n",
        "\n",
        "lista_mista = [1, \"texto\", 3.14, True, [1, 2, 3]]"
      ]
    },
    {
      "cell_type": "code",
      "source": [
        "#coleção de elementeos imutaveis\n",
        "# utilizamos parenteses\n",
        "\n",
        "tupla = (1, 2, 3)\n",
        "\n",
        "tupla_mista = (1, \"texto\", 3.14, False, [1, 2, 3])"
      ],
      "metadata": {
        "id": "3w7aaWLiw9X1"
      },
      "execution_count": null,
      "outputs": []
    },
    {
      "cell_type": "code",
      "source": [
        "# Acessa o elemento na posição 1 da lista, que é 20.\n",
        "lista = [10, 20, 30]\n",
        "print(lista[1])\n",
        "\n",
        "# Acessa o elemento na posição 1 da tupla, que é 42.\n",
        "tupla = (11, 42, 64)\n",
        "print(tupla[1])"
      ],
      "metadata": {
        "colab": {
          "base_uri": "https://localhost:8080/"
        },
        "id": "1FONIhQIw9ag",
        "outputId": "4abacddb-1d93-44c0-c7a6-73e4a8cb590a"
      },
      "execution_count": null,
      "outputs": [
        {
          "output_type": "stream",
          "name": "stdout",
          "text": [
            "20\n",
            "42\n"
          ]
        }
      ]
    },
    {
      "cell_type": "code",
      "source": [
        "# Extrai os elementos do índice 1 até o 2 (não inclui o índice 3), resultando em [20, 30].\n",
        "\n",
        "lista = [10, 20, 30, 40]\n",
        "print(lista[1:3])\n",
        "\n",
        "## Extrai os elementos do índice 1 até o 2 (não inclui o índice 3), resultando em [20, 30].\n",
        "tupla = (10, 20, 30, 40)\n",
        "print(tupla[1:3])"
      ],
      "metadata": {
        "colab": {
          "base_uri": "https://localhost:8080/"
        },
        "id": "dawKcH2Mw9dR",
        "outputId": "e6392f6a-669d-4274-c641-9a7b7b49a015"
      },
      "execution_count": null,
      "outputs": [
        {
          "output_type": "stream",
          "name": "stdout",
          "text": [
            "[20, 30]\n",
            "(20, 30)\n"
          ]
        }
      ]
    },
    {
      "cell_type": "code",
      "source": [
        "lista = [10, 20, 30]\n",
        "\n",
        "print(20 in lista) # Verifica se 20 está presente na lista, retorna True\n",
        "print(40 in lista) # Verifica se 40 está presente na lista, retorna False\n",
        "\n",
        "tupla = (10, 20, 30)\n",
        "print(20 in tupla) # Verifica se 20 está presente na tupla, retorna True\n",
        "print(40 in tupla) # Verifica se 40 está presente na tupla, retorna False"
      ],
      "metadata": {
        "colab": {
          "base_uri": "https://localhost:8080/"
        },
        "id": "PfndSH9eyaTM",
        "outputId": "a1d8909a-bd9d-4847-f36f-a6e822615883"
      },
      "execution_count": null,
      "outputs": [
        {
          "output_type": "stream",
          "name": "stdout",
          "text": [
            "True\n",
            "False\n",
            "True\n",
            "False\n"
          ]
        }
      ]
    },
    {
      "cell_type": "markdown",
      "source": [
        "Metodos para manipular os elementos de uma lista: Manipulação de listas"
      ],
      "metadata": {
        "id": "er7T2hstyzp3"
      }
    },
    {
      "cell_type": "code",
      "source": [
        "'''\n",
        "\n",
        "\n",
        " Método\tDescrição\tExemplo\tResultado da lista\n",
        ".append()\tAdiciona um elemento ao final da lista.\tlista = [1, 2, 3] lista.append(4)\t[1, 2, 3, 4]\n",
        ".insert()\tInsere um elemento em uma posição específica.\tlista = [1, 2, 3] lista.insert(1, 5)\t[1, 5, 2, 3]\n",
        ".remove()\tRemove o primeiro elemento encontrado com o valor especificado.\tlista = [1, 2, 3, 2] lista.remove(2)\t[1, 3, 2]\n",
        ".sort()\tOrdena os elementos da lista em ordem crescente.\tlista = [3, 1, 2] lista.sort()\t[1, 2, 3]\n",
        ".reverse()\tReverte a ordem dos elementos da lista.\n",
        "\n",
        "'''\n",
        "\n"
      ],
      "metadata": {
        "colab": {
          "base_uri": "https://localhost:8080/",
          "height": 53
        },
        "id": "jHukysY8yaWO",
        "outputId": "90a7e2bd-13ec-4813-abcf-7cbffcfbaf3e"
      },
      "execution_count": null,
      "outputs": [
        {
          "output_type": "execute_result",
          "data": {
            "text/plain": [
              "'\\n\\n\\n Método\\tDescrição\\tExemplo\\tResultado da lista\\n.append()\\tAdiciona um elemento ao final da lista.\\tlista = [1, 2, 3] lista.append(4)\\t[1, 2, 3, 4]\\n.insert()\\tInsere um elemento em uma posição específica.\\tlista = [1, 2, 3] lista.insert(1, 5)\\t[1, 5, 2, 3]\\n.remove()\\tRemove o primeiro elemento encontrado com o valor especificado.\\tlista = [1, 2, 3, 2] lista.remove(2)\\t[1, 3, 2]\\n.sort()\\tOrdena os elementos da lista em ordem crescente.\\tlista = [3, 1, 2] lista.sort()\\t[1, 2, 3]\\n.reverse()\\tReverte a ordem dos elementos da lista.\\n\\n'"
            ],
            "application/vnd.google.colaboratory.intrinsic+json": {
              "type": "string"
            }
          },
          "metadata": {},
          "execution_count": 24
        }
      ]
    },
    {
      "cell_type": "code",
      "source": [
        "# Método pop()\n",
        "# temos o método pop(), que, além de aplicar uma ação sobre a lista, retorna um valor.\n",
        "\n",
        "lista = [1, 2, 3]\n",
        "\n",
        "print(lista.pop(1))\n",
        "print(lista)"
      ],
      "metadata": {
        "colab": {
          "base_uri": "https://localhost:8080/"
        },
        "id": "kaEItbXlyaY6",
        "outputId": "d66eaf8a-a564-470d-878f-25bd52a75c62"
      },
      "execution_count": null,
      "outputs": [
        {
          "output_type": "stream",
          "name": "stdout",
          "text": [
            "2\n",
            "[1, 3]\n"
          ]
        }
      ]
    },
    {
      "cell_type": "code",
      "source": [
        "tupla1 = (1, 2)\n",
        "tupla2 = (3, 4)\n",
        "nova_tupla = tupla1 + tupla2\n",
        "\n",
        "# A tupla nova_tupla contém todos os elementos de tupla1 seguidos pelos elementos de tupla2, resultando em (1, 2, 3, 4)."
      ],
      "metadata": {
        "id": "LG_ZZIWJyacA"
      },
      "execution_count": null,
      "outputs": []
    },
    {
      "cell_type": "code",
      "source": [
        "nova_tupla"
      ],
      "metadata": {
        "colab": {
          "base_uri": "https://localhost:8080/"
        },
        "id": "2pt5E2GHw9f3",
        "outputId": "08e4169e-300a-4bd3-eb78-e8afe41d1418"
      },
      "execution_count": null,
      "outputs": [
        {
          "output_type": "execute_result",
          "data": {
            "text/plain": [
              "(1, 2, 3, 4)"
            ]
          },
          "metadata": {},
          "execution_count": 27
        }
      ]
    },
    {
      "cell_type": "code",
      "source": [
        "lista = [1, 2, 3, 4]\n",
        "for item in lista:\n",
        "    print(item)\n"
      ],
      "metadata": {
        "colab": {
          "base_uri": "https://localhost:8080/"
        },
        "id": "c6hr-zRBw9in",
        "outputId": "af349d56-ac2e-4824-d424-5c9c3c6ae119"
      },
      "execution_count": null,
      "outputs": [
        {
          "output_type": "stream",
          "name": "stdout",
          "text": [
            "1\n",
            "2\n",
            "3\n",
            "4\n"
          ]
        }
      ]
    },
    {
      "cell_type": "code",
      "source": [
        "\n",
        "tupla = (1, 2, 3, 4)\n",
        "for item in tupla:\n",
        "    print(item)"
      ],
      "metadata": {
        "colab": {
          "base_uri": "https://localhost:8080/"
        },
        "id": "1TA1Yjhn2KMt",
        "outputId": "a2e77491-233b-4785-889b-297a2edf69c4"
      },
      "execution_count": null,
      "outputs": [
        {
          "output_type": "stream",
          "name": "stdout",
          "text": [
            "1\n",
            "2\n",
            "3\n",
            "4\n"
          ]
        }
      ]
    },
    {
      "cell_type": "code",
      "source": [
        "# desempacotamento\n",
        "\n",
        "tupla = (1, 2, 3)\n",
        "# Desempacota a tupla em 3 variáveis: a, b, c.\n",
        "a, b, c = tupla\n",
        "print(a, b, c)\n",
        "\n"
      ],
      "metadata": {
        "colab": {
          "base_uri": "https://localhost:8080/"
        },
        "id": "H7DISqIJzw9w",
        "outputId": "64885afe-4da7-421b-96b5-1faf4c4ee3cd"
      },
      "execution_count": null,
      "outputs": [
        {
          "output_type": "stream",
          "name": "stdout",
          "text": [
            "1 2 3\n"
          ]
        }
      ]
    },
    {
      "cell_type": "code",
      "source": [
        "lista = [10, 20, 30]\n",
        "# Desempacota a lista em 3 variáveis: x, y, z.\n",
        "x, y, z = lista\n",
        "print(x, y, z)"
      ],
      "metadata": {
        "colab": {
          "base_uri": "https://localhost:8080/"
        },
        "id": "B8ujfW3GzxAe",
        "outputId": "582910a7-b3e0-4080-b130-f0203b07a112"
      },
      "execution_count": null,
      "outputs": [
        {
          "output_type": "stream",
          "name": "stdout",
          "text": [
            "10 20 30\n"
          ]
        }
      ]
    },
    {
      "cell_type": "code",
      "source": [
        "# em que momentos podemos usar esses sistemas de lista e tuplas em meu codigo ?\n",
        "\n"
      ],
      "metadata": {
        "id": "oTZx5IwMzxDD"
      },
      "execution_count": null,
      "outputs": []
    },
    {
      "cell_type": "code",
      "source": [
        "tarefas = [\"Estudar Python\", \"Fazer compras\", \"Lavar a louça\"]\n",
        "\n",
        "tarefas.append(\"Ler um livro\")  # Adiciona \"Ler um livro\" à lista\n",
        "tarefas.remove(\"Fazer compras\")  # Remove \"Fazer compras\" da lista\n",
        "\n",
        "for tarefa in tarefas:\n",
        "    print(tarefa)  # Exibe cada tarefa na lista"
      ],
      "metadata": {
        "colab": {
          "base_uri": "https://localhost:8080/"
        },
        "id": "Drn58-V0zxFj",
        "outputId": "124969b6-cd91-4d59-eb02-389cae492b45"
      },
      "execution_count": null,
      "outputs": [
        {
          "output_type": "stream",
          "name": "stdout",
          "text": [
            "Estudar Python\n",
            "Lavar a louça\n",
            "Ler um livro\n"
          ]
        }
      ]
    },
    {
      "cell_type": "code",
      "source": [
        "# Definição de tuplas com nome da cidade, latitude e longitude\n",
        "# como sao nome de cidades e dados de posição geografica, melhor usar tuplas por serem dados imutaveis\n",
        "cidade1 = (\"São Paulo\", -23.5505, -46.6333)\n",
        "cidade2 = (\"Rio de Janeiro\", -22.9068, -43.1729)\n",
        "cidade3 = (\"Brasília\", -15.7801, -47.9292)\n",
        "\n",
        "# Lista contendo as tuplas das cidades\n",
        "cidades = [cidade1, cidade2, cidade3]\n",
        "\n",
        "# Percorre a lista de cidades e desempacota os valores\n",
        "for cidade in cidades:\n",
        "    nome, latitude, longitude = cidade  # Atribui cada valor da tupla às variáveis\n",
        "    print(f\"Cidade: {nome}, Latitude: {latitude}, Longitude: {longitude}\")  # Exibe as informações formatadas"
      ],
      "metadata": {
        "colab": {
          "base_uri": "https://localhost:8080/"
        },
        "id": "zIbhXGfPzxIR",
        "outputId": "fabd7c04-2472-436b-9afa-53da5b851222"
      },
      "execution_count": null,
      "outputs": [
        {
          "output_type": "stream",
          "name": "stdout",
          "text": [
            "Cidade: São Paulo, Latitude: -23.5505, Longitude: -46.6333\n",
            "Cidade: Rio de Janeiro, Latitude: -22.9068, Longitude: -43.1729\n",
            "Cidade: Brasília, Latitude: -15.7801, Longitude: -47.9292\n"
          ]
        }
      ]
    },
    {
      "cell_type": "markdown",
      "source": [
        "VERIFICANDO ITENS NA DESPENSA\n"
      ],
      "metadata": {
        "id": "ygl9w58nCjg2"
      }
    },
    {
      "cell_type": "code",
      "source": [
        "lista_itens = ['arroz','feijão']\n",
        "\n",
        "produto = input(\"Digite o item que você quer verificar: \")\n",
        "\n",
        "for item in lista_itens:\n",
        "    if item == produto:\n",
        "        print(f\"O item {produto} está na lista.\")\n",
        "        break\n",
        "else:\n",
        "    print(f\"O item {produto} precisa ser comprado\")\n",
        "\n"
      ],
      "metadata": {
        "id": "C_u1MHSKzxLP",
        "colab": {
          "base_uri": "https://localhost:8080/"
        },
        "outputId": "300cb10f-8e9c-46a5-c2ab-7a5471d28e3f"
      },
      "execution_count": null,
      "outputs": [
        {
          "output_type": "stream",
          "name": "stdout",
          "text": [
            "Digite o item que você quer verificar: maça\n",
            "O item maça precisa ser comprado\n"
          ]
        }
      ]
    },
    {
      "cell_type": "markdown",
      "source": [
        "Organizando notas de um concurso de redação"
      ],
      "metadata": {
        "id": "_yC6toZFCsba"
      }
    },
    {
      "cell_type": "code",
      "source": [
        "Notas= [85, 70, 90, 60, 75]\n",
        "\n",
        "Notas.sort()\n",
        "\n",
        "for i in Notas:\n",
        "  print(i)"
      ],
      "metadata": {
        "colab": {
          "base_uri": "https://localhost:8080/"
        },
        "id": "wJSgqmGyCrH4",
        "outputId": "6ada3ef3-f4dc-4a3b-9556-5ebf04a0d90a"
      },
      "execution_count": null,
      "outputs": [
        {
          "output_type": "stream",
          "name": "stdout",
          "text": [
            "60\n",
            "70\n",
            "75\n",
            "85\n",
            "90\n"
          ]
        }
      ]
    },
    {
      "cell_type": "code",
      "source": [
        "notas = [85, 70, 90, 60, 75]\n",
        "print(\"Notas originais:\", notas)"
      ],
      "metadata": {
        "colab": {
          "base_uri": "https://localhost:8080/"
        },
        "id": "g-HI26D3AJQ8",
        "outputId": "11db5348-3b06-4251-ce62-85d501a16d4e"
      },
      "execution_count": null,
      "outputs": [
        {
          "output_type": "stream",
          "name": "stdout",
          "text": [
            "Notas originais: [85, 70, 90, 60, 75]\n"
          ]
        }
      ]
    },
    {
      "cell_type": "code",
      "source": [
        "notas.sort()\n",
        "print(\"Notas ordenadas:\", notas)"
      ],
      "metadata": {
        "colab": {
          "base_uri": "https://localhost:8080/"
        },
        "id": "NSCttWrMAJTz",
        "outputId": "11ece606-c2e5-4304-f176-d535caf84aa1"
      },
      "execution_count": null,
      "outputs": [
        {
          "output_type": "stream",
          "name": "stdout",
          "text": [
            "Notas ordenadas: [60, 70, 75, 85, 90]\n"
          ]
        }
      ]
    },
    {
      "cell_type": "markdown",
      "source": [
        "Registrando voluntários para uma campanha"
      ],
      "metadata": {
        "id": "TvE80CqNEYA9"
      }
    },
    {
      "cell_type": "code",
      "source": [
        "'''\n",
        "\n",
        "Uma ONG está organizando uma campanha de arrecadação de alimentos e precisa registrar os nomes dos voluntários que vão ajudar na ação.\n",
        "À medida que os voluntários se inscrevem, seus nomes devem ser adicionados à lista e quando for digitado a palavra sair o programa deve encerrar.\n",
        "\n",
        "\n",
        "Ajude a ONG a criar um programa que permita registrar os voluntários e exiba a lista completa no final.\n",
        "\n",
        "'''\n",
        "\n",
        "\n",
        "voluntarios = []\n",
        "\n",
        "while True:\n",
        "    nome = input(\"Digite o nome do voluntário (ou 'sair' para encerrar): \")\n",
        "    if nome.lower() == 'sair':\n",
        "        break\n",
        "    voluntarios.append(nome)\n",
        "\n",
        "print(\"\\nVoluntários registrados:\", voluntarios)\n",
        "\n",
        "\n"
      ],
      "metadata": {
        "colab": {
          "base_uri": "https://localhost:8080/"
        },
        "id": "Z-Y-sfXgAJWu",
        "outputId": "87653479-b64b-4304-8820-0ea806726dc6"
      },
      "execution_count": null,
      "outputs": [
        {
          "output_type": "stream",
          "name": "stdout",
          "text": [
            "Digite o nome do voluntário (ou 'sair' para encerrar): Ana \n",
            "Digite o nome do voluntário (ou 'sair' para encerrar): João \n",
            "Digite o nome do voluntário (ou 'sair' para encerrar): Mariana \n",
            "Digite o nome do voluntário (ou 'sair' para encerrar): sair\n",
            "\n",
            "Voluntários registrados: ['Ana ', 'João ', 'Mariana ']\n"
          ]
        }
      ]
    },
    {
      "cell_type": "markdown",
      "source": [
        "Unindo o relatório de estoques"
      ],
      "metadata": {
        "id": "G12afsTPGwEi"
      }
    },
    {
      "cell_type": "code",
      "source": [
        "'''\n",
        "\n",
        "Armano trabalha com a gestão de dois estoques de mercadorias que são representados como tuplas. Agora, ele precisa criar um relatório unificado com os produtos dos dois estoques juntos.\n",
        "\n",
        "Para ajudá-lo, como você criaria um programa que ler as informações dos estoques e gera um relatório com todos os produtos juntos?\n",
        "\n",
        "\n",
        "'''\n",
        "\n",
        "produtos_estoque1 = ('Arroz', 'Feijão', 'Macarrão')\n",
        "produtos_estoque2 = ('Óleo', 'Sal', 'Açúcar')\n",
        "\n",
        "lista_total = produtos_estoque1 + produtos_estoque2\n",
        "\n",
        "print(lista_total)"
      ],
      "metadata": {
        "colab": {
          "base_uri": "https://localhost:8080/"
        },
        "id": "t7eUm1IYEXOJ",
        "outputId": "bd65c278-d4ab-4f20-a20a-b4f083a44efc"
      },
      "execution_count": null,
      "outputs": [
        {
          "output_type": "stream",
          "name": "stdout",
          "text": [
            "('Arroz', 'Feijão', 'Macarrão', 'Óleo', 'Sal', 'Açúcar')\n"
          ]
        }
      ]
    },
    {
      "cell_type": "markdown",
      "source": [
        "**Reorganizando uma lista de convidados**"
      ],
      "metadata": {
        "id": "gv2n-hkptb1j"
      }
    },
    {
      "cell_type": "code",
      "source": [
        "'''\n",
        "\n",
        "Camila adora receber amigos para jantares temáticos. Para o próximo encontro, ela quer garantir que a ordem de chegada seja respeitada, mas ainda precisa fazer ajustes na lista de convidados.\n",
        "Camila quer adicionar novos nomes e organizá-los em posições específicas.\n",
        "\n",
        "Como você criaria um programa que mostre a lista inicial, permita a inserção de um novo nome em uma posição escolhida e exiba a lista atualizada?\n",
        "\n",
        "\n",
        "'''\n",
        "\n",
        "\n"
      ],
      "metadata": {
        "id": "MwdS9V7CEXQ3"
      },
      "execution_count": null,
      "outputs": []
    },
    {
      "cell_type": "code",
      "source": [
        "lista_convidados = ['Ana', 'Pedro', 'Carlos']\n",
        "\n",
        "novo_convidado = input(\"Digite o nome do novo convidado: \")\n",
        "posicao = int(input(\"Digite a posição que deseja inserir o convidado (começando em 0): \"))\n",
        "\n",
        "lista_convidados.insert(posicao, novo_convidado)\n",
        "\n",
        "print(\"Lista de convidados atualizada:\", lista_convidados)"
      ],
      "metadata": {
        "id": "LBYRVaH-EXTt",
        "colab": {
          "base_uri": "https://localhost:8080/"
        },
        "outputId": "cb8c95d8-360a-4330-fb62-69b1fb4af681"
      },
      "execution_count": null,
      "outputs": [
        {
          "output_type": "stream",
          "name": "stdout",
          "text": [
            "Digite o nome do novo convidado: João \n",
            "Digite a posição que deseja inserir o convidado (começando em 0): 1\n",
            "Lista de convidados atualizada: ['Ana', 'João ', 'Pedro', 'Carlos']\n"
          ]
        }
      ]
    },
    {
      "cell_type": "markdown",
      "source": [
        "**Ordenando os eventos**"
      ],
      "metadata": {
        "id": "wVcfHma6trF7"
      }
    },
    {
      "cell_type": "code",
      "source": [
        "'''\n",
        "\n",
        "A Futuro Eventos, uma empresa especializada em organização de conferências, cometeu um erro ao registrar a sequência dos eventos de uma conferência importante.\n",
        "Os eventos foram registrados na ordem inversa à que deveriam acontecer.\n",
        "Agora, a equipe precisa corrigir a ordem dos eventos para garantir que a conferência aconteça conforme o planejamento original.\n",
        "\n",
        "Considerando a lista inicial de eventos, crie um programa que permita ao organizador ordená-los, de forma que a lista final siga a sequência correta.\n",
        "\n",
        "'''\n",
        "\n",
        "\n",
        "eventos_registrados = ['Encerramento', 'Palestra 3', 'Palestra 2', 'Abertura']\n",
        "\n",
        "eventos_registrados.reverse()\n",
        "\n",
        "print(\"Lista de eventos ordenados:\", eventos_registrados)"
      ],
      "metadata": {
        "id": "f-YsiZxWEXWA",
        "colab": {
          "base_uri": "https://localhost:8080/"
        },
        "outputId": "f0adfc53-a5f8-4420-91d6-da27015a08bb"
      },
      "execution_count": null,
      "outputs": [
        {
          "output_type": "stream",
          "name": "stdout",
          "text": [
            "Lista de eventos ordenados: ['Abertura', 'Palestra 2', 'Palestra 3', 'Encerramento']\n"
          ]
        }
      ]
    },
    {
      "cell_type": "markdown",
      "source": [
        "**Corrigindo posições na lista de uma corrida de atletismo**"
      ],
      "metadata": {
        "id": "h2lkVIHsvK49"
      }
    },
    {
      "cell_type": "code",
      "source": [
        "'''\n",
        "\n",
        "O clube de atletismo Alura Runners organizou uma corrida e divulgou a lista com a classificação final dos participantes. Mas, um erro foi identificado: um dos nomes está incorreto.\n",
        "O organizador precisa de um programa que permita localizar o nome errado e substituí-lo pelo correto.\n",
        "\n",
        "Como você escreveria um programa que solicite o nome errado, o nome correto e atualize a lista exibindo a nova classificação ao final?\n",
        "\n",
        "'''\n",
        "resultados = [\"Ana\", \"Carlos\", \"Pedro\"]\n",
        "print(\"Lista original:\", resultados)\n",
        "\n",
        "erro = input(\"Digite o nome incorreto: \")\n",
        "if erro in resultados:\n",
        "    correto = input(\"Digite o nome correto: \")\n",
        "    posicao = resultados.index(erro)\n",
        "    resultados.remove(erro)\n",
        "    resultados.insert(posicao, correto)\n",
        "    print(f\"O nome {erro} foi substituído por {correto}.\")\n",
        "    print(\"Lista atualizada:\", resultados)\n",
        "else:\n",
        "    print(\"Nome não encontrado.\")\n",
        "\n"
      ],
      "metadata": {
        "colab": {
          "base_uri": "https://localhost:8080/"
        },
        "id": "6QTa6SLytg2H",
        "outputId": "b2babfc1-c85b-4928-a802-d63de709a447"
      },
      "execution_count": null,
      "outputs": [
        {
          "output_type": "stream",
          "name": "stdout",
          "text": [
            "Lista original: ['Ana', 'Carlos', 'Pedro']\n",
            "Digite o nome incorreto: João \n",
            "Nome não encontrado.\n"
          ]
        }
      ]
    },
    {
      "cell_type": "markdown",
      "source": [
        "Removendo o último item de um pedido"
      ],
      "metadata": {
        "id": "qeHToS94x5Du"
      }
    },
    {
      "cell_type": "code",
      "source": [
        "'''\n",
        "\n",
        "\n",
        "Paulo está criando uma lista de pedidos para a lanchonete. Ele já tem todos os pedidos, mas percebeu que o último foi inserido por engano e precisa removê-lo.\n",
        "\n",
        "Diante deste problema, ajude Paulo criando um programa que automatize essa operação, permitindo listar os pedidos e remover o último item automaticamente.\n",
        "\n",
        "\n",
        "'''\n",
        "\n",
        "pedidos = input(\"Pedidos feitos (separados por vírgula): \").split(\", \")\n",
        "pedidos.pop()\n",
        "print(\"Pedidos finais:\")\n",
        "print(pedidos)\n"
      ],
      "metadata": {
        "colab": {
          "base_uri": "https://localhost:8080/"
        },
        "id": "NablReoSx2As",
        "outputId": "b72163b7-85a0-4bde-884a-6fa4f0d81385"
      },
      "execution_count": null,
      "outputs": [
        {
          "output_type": "stream",
          "name": "stdout",
          "text": [
            "Pedidos feitos (separados por vírgula): Pao \n",
            "Pedidos finais:\n",
            "[]\n"
          ]
        }
      ]
    },
    {
      "cell_type": "markdown",
      "source": [
        "Calculando a média de notas"
      ],
      "metadata": {
        "id": "jiWQa0njySbF"
      }
    },
    {
      "cell_type": "code",
      "source": [
        "'''\n",
        "\n",
        "\n",
        "A professora Helena quer facilitar sua rotina na hora de calcular a média das notas finais da turma. Ela sempre anota as notas dos alunos ao longo do semestre e, no final, precisa de um relatório para saber se a turma está indo bem.\n",
        "\n",
        "Para isso, ajude a professora a criar um programa que receba as notas finais de todos os alunos e calcule a média da turma.\n",
        "\n",
        "'''\n",
        "\n",
        "notas = input(\"Digite as notas dos alunos separadas por vírgula: \").split(\", \")\n",
        "notas = [float(nota) for nota in notas]\n",
        "media = sum(notas) / len(notas)\n",
        "print(f\"Média final da turma: {media:.2f}\")\n",
        "\n",
        "\n",
        "\n",
        "\n",
        "\n"
      ],
      "metadata": {
        "colab": {
          "base_uri": "https://localhost:8080/"
        },
        "id": "7G8T3OU2tg5J",
        "outputId": "a896c7b9-2baa-48da-a37f-2673f3b07b8c"
      },
      "execution_count": null,
      "outputs": [
        {
          "output_type": "stream",
          "name": "stdout",
          "text": [
            "Digite as notas dos alunos separadas por vírgula: 5\n",
            "Média final da turma: 5.00\n"
          ]
        }
      ]
    },
    {
      "cell_type": "code",
      "source": [
        "dados = input(\"Digite os dados do aluno no formato Nome, Idade, Nota separados por vírgula: \").replace(',', '.').split(\", \")\n",
        "\n",
        "for i in range(0, len(dados), 3):\n",
        "    nome, idade, nota = dados[i], int(float(dados[i + 1])), float(dados[i + 2]) #Changed int to float for idade\n",
        "    print(f\"Aluno: {nome}\")\n",
        "    print(f\"Idade: {idade}\")\n",
        "    print(f\"Nota: {nota}\\n\")"
      ],
      "metadata": {
        "id": "RH2Xoj-Rtg8i"
      },
      "execution_count": null,
      "outputs": []
    },
    {
      "cell_type": "code",
      "source": [],
      "metadata": {
        "id": "uDlHXuf7AJZo"
      },
      "execution_count": null,
      "outputs": []
    },
    {
      "cell_type": "code",
      "source": [],
      "metadata": {
        "id": "hK3Ci-QyzxNf"
      },
      "execution_count": null,
      "outputs": []
    }
  ]
}