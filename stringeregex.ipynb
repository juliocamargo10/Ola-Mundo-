{
  "nbformat": 4,
  "nbformat_minor": 0,
  "metadata": {
    "colab": {
      "provenance": [],
      "authorship_tag": "ABX9TyPRwKxPXPkOSFeGwgCH9fAk",
      "include_colab_link": true
    },
    "kernelspec": {
      "name": "python3",
      "display_name": "Python 3"
    },
    "language_info": {
      "name": "python"
    }
  },
  "cells": [
    {
      "cell_type": "markdown",
      "metadata": {
        "id": "view-in-github",
        "colab_type": "text"
      },
      "source": [
        "<a href=\"https://colab.research.google.com/github/juliocamargo10/Ola-Mundo-/blob/main/stringeregex.ipynb\" target=\"_parent\"><img src=\"https://colab.research.google.com/assets/colab-badge.svg\" alt=\"Open In Colab\"/></a>"
      ]
    },
    {
      "cell_type": "markdown",
      "source": [],
      "metadata": {
        "id": "ksoBq7JxzXrz"
      }
    },
    {
      "cell_type": "markdown",
      "source": [
        "METODO DE MANIPULAÇÃO"
      ],
      "metadata": {
        "id": "vkl4s9CMzdEH"
      }
    },
    {
      "cell_type": "code",
      "source": [
        "''' strip() remove espaço em branco.EX: '' exemplo ''.strip()''----saida (''exemplo'')/\n",
        "lower() converte todos caracteres da string para letra 'minúscula'.EX: 'EXEMPLO'.lower() saida ---exemplo\n",
        "upper() converte todos caracteres da string para letra 'maiuscula'.EX: 'exemplo'.upper() saida ---EXEMPLO\n",
        "replace substitui uma substring especifica por outra. ex: ''Ola Mundo''.replace('mundo','python')---saida ---'Ola Python'\n",
        "'''\n"
      ],
      "metadata": {
        "id": "g1aPQynZykw4",
        "colab": {
          "base_uri": "https://localhost:8080/",
          "height": 53
        },
        "outputId": "8b39b4e1-d176-4363-f82f-5855ac9bf476"
      },
      "execution_count": 1,
      "outputs": [
        {
          "output_type": "execute_result",
          "data": {
            "text/plain": [
              "\" strip() remove espaço em branco.EX: '' exemplo ''.strip()''----saida (''exemplo'')/\\nlower() converte todos caracteres da string para letra 'minúscula'.EX: 'EXEMPLO'.lower() saida ---exemplo\\nupper() converte todos caracteres da string para letra 'maiuscula'.EX: 'exemplo'.upper() saida ---EXEMPLO\\nreplace substitui uma substring especifica por outra. ex: ''Ola Mundo''.replace('mundo','python')---saida ---'Ola Python'\\n\""
            ],
            "application/vnd.google.colaboratory.intrinsic+json": {
              "type": "string"
            }
          },
          "metadata": {},
          "execution_count": 1
        }
      ]
    },
    {
      "cell_type": "markdown",
      "source": [
        "Indexação de string"
      ],
      "metadata": {
        "id": "C5eKE_x82a3E"
      }
    },
    {
      "cell_type": "code",
      "source": [
        "texto = 'Python'\n",
        "\n",
        "print(texto[5])\n",
        "print(texto[-1])"
      ],
      "metadata": {
        "colab": {
          "base_uri": "https://localhost:8080/"
        },
        "id": "dPr3f_ocykze",
        "outputId": "8e3883de-043f-45b5-8e8f-9ca23ff550a7"
      },
      "execution_count": 2,
      "outputs": [
        {
          "output_type": "stream",
          "name": "stdout",
          "text": [
            "n\n",
            "n\n"
          ]
        }
      ]
    },
    {
      "cell_type": "markdown",
      "source": [
        "Slicing\n"
      ],
      "metadata": {
        "id": "cr2SzrX63VoI"
      }
    },
    {
      "cell_type": "code",
      "source": [
        "#em portugues significa fatiamento permite extrair uma parte da string. A sintaxe é 'string[inicio:fim:passo]\n",
        "#lembrando que no fatiamento :3 nos começamos o indice com '0' então fica 0,1,2\n",
        "#no : : 2 nos estamos pulando caracterer de dois em dois\n",
        "\n",
        "texto = 'Python'\n",
        "print(texto[1:4])\n",
        "print(texto[:3])\n",
        "print(texto[::2])"
      ],
      "metadata": {
        "colab": {
          "base_uri": "https://localhost:8080/"
        },
        "id": "OSXo0WUyyk2E",
        "outputId": "258ac4de-9007-4f26-a63d-b14d4b7bb76b"
      },
      "execution_count": 3,
      "outputs": [
        {
          "output_type": "stream",
          "name": "stdout",
          "text": [
            "yth\n",
            "Pyt\n",
            "Pto\n"
          ]
        }
      ]
    },
    {
      "cell_type": "markdown",
      "source": [
        "Operador IN\n"
      ],
      "metadata": {
        "id": "tfs-YWV55nuX"
      }
    },
    {
      "cell_type": "code",
      "source": [
        "#Verifica se uma substring esta presente em uma string\n",
        "texto = 'Python'\n",
        "\n",
        "print('Py' in texto)\n",
        "print('Java' in texto)\n"
      ],
      "metadata": {
        "colab": {
          "base_uri": "https://localhost:8080/"
        },
        "id": "sYw2t48cyk4w",
        "outputId": "cbe31f21-2d73-426c-ad18-45771ae4965c"
      },
      "execution_count": 4,
      "outputs": [
        {
          "output_type": "stream",
          "name": "stdout",
          "text": [
            "True\n",
            "False\n"
          ]
        }
      ]
    },
    {
      "cell_type": "markdown",
      "source": [
        "startswith"
      ],
      "metadata": {
        "id": "4KGAyUuN6LXx"
      }
    },
    {
      "cell_type": "code",
      "source": [
        "#O método startswith() verifica se a string começa com uma substring específica, retornando True ou False como resposta.\n",
        "\n",
        "texto = \"Python\"\n",
        "\n",
        "print(texto.startswith(\"Py\"))\n",
        "\n",
        "print(texto.startswith(\"py\"))"
      ],
      "metadata": {
        "colab": {
          "base_uri": "https://localhost:8080/"
        },
        "id": "5ylIT4Ul5IbA",
        "outputId": "c22a4b82-2b84-4e12-8f4d-3812c9167f31"
      },
      "execution_count": 5,
      "outputs": [
        {
          "output_type": "stream",
          "name": "stdout",
          "text": [
            "True\n",
            "False\n"
          ]
        }
      ]
    },
    {
      "cell_type": "markdown",
      "source": [
        "endswith"
      ],
      "metadata": {
        "id": "wjdx-QUT6rYZ"
      }
    },
    {
      "cell_type": "code",
      "source": [
        "'''Por fim, o método endswith() verifica se a string termina com uma substring específica.\n",
        "\n",
        "No exemplo de código abaixo, verificamos se a string termina com \"on\", resultando em True. Da mesma forma, verificamos se ela termina com \"ton\", resultando em False.'''\n",
        "\n",
        "texto = \"Python\"\n",
        "\n",
        "print(texto.endswith(\"on\"))\n",
        "\n",
        "print(texto.endswith(\"ton\"))"
      ],
      "metadata": {
        "colab": {
          "base_uri": "https://localhost:8080/"
        },
        "id": "EGlt1hJe5Igh",
        "outputId": "8aaa659d-7f9b-4891-83ce-7b0ea7620fc2"
      },
      "execution_count": 6,
      "outputs": [
        {
          "output_type": "stream",
          "name": "stdout",
          "text": [
            "True\n",
            "False\n"
          ]
        }
      ]
    },
    {
      "cell_type": "code",
      "source": [],
      "metadata": {
        "id": "FHj-DdoK5Ii9"
      },
      "execution_count": 6,
      "outputs": []
    },
    {
      "cell_type": "markdown",
      "source": [
        "APLICANDO REGEX\n"
      ],
      "metadata": {
        "id": "1fUmnh9rioPk"
      }
    },
    {
      "cell_type": "markdown",
      "source": [
        "Caracteres especiais"
      ],
      "metadata": {
        "id": "kZ-ZqrEZjOhj"
      }
    },
    {
      "cell_type": "code",
      "source": [
        "# . Corresponde a qualquer caractere, exceto nova linha\n",
        "# \\d Corresponde a qualquer digito (0-9)\n",
        "# \\D Corresponde a qualquer caracter que não seja digito\n",
        "# \\w Corresponde a qualquer caracter alfanumerico\n",
        "# \\W corresponde a qulquer caracter que não seja alfanumerico\n",
        "# \\s Corresponde a qualquer espaço em branco\n",
        "# \\S Corresponde a qualquer caracter que não seja espaço"
      ],
      "metadata": {
        "id": "vtl7jQLC5Il4"
      },
      "execution_count": 7,
      "outputs": []
    },
    {
      "cell_type": "code",
      "source": [],
      "metadata": {
        "id": "JeQtTFp3ktnT"
      },
      "execution_count": 7,
      "outputs": []
    },
    {
      "cell_type": "markdown",
      "source": [
        "Classe de caracteres"
      ],
      "metadata": {
        "id": "WGR2p4RGkPnc"
      }
    },
    {
      "cell_type": "code",
      "source": [
        "# [abc]\tCorresponde a qualquer caractere 'a', 'b' ou 'c'\n",
        "# [^abc]\tCorresponde a qualquer caractere que não seja 'a', 'b' ou 'c'\n",
        "#[a-z]\tCorresponde a qualquer caractere de 'a' a 'z' (minúsculas)\n",
        "# [A-Z]\tCorresponde a qualquer caractere de 'A' a 'Z' (maiúsculas\n",
        "# [0-9]\tCorresponde a qualquer dígito (0-9)\n",
        "# [a-zA-Z]\tCorresponde a qualquer letra, maiúscula ou minúscula\n",
        "\n",
        "\n"
      ],
      "metadata": {
        "id": "F1HOTHg4jSAD"
      },
      "execution_count": 8,
      "outputs": []
    },
    {
      "cell_type": "code",
      "source": [
        "''' *\tCorresponde a 0 ou mais ocorrências do padrão anterior\n",
        "+\tCorresponde a 1 ou mais ocorrências do padrão anterior\n",
        "?\tCorresponde a 0 ou 1 ocorrência do padrão anterior\n",
        "{n}\tCorresponde exatamente a n ocorrências do padrão anterior\n",
        "{n,}\tCorresponde a n ou mais ocorrências do padrão anterior\n",
        "{n,m}\tCorresponde entre n e m ocorrências do padrão anterior '''\n"
      ],
      "metadata": {
        "colab": {
          "base_uri": "https://localhost:8080/",
          "height": 53
        },
        "id": "poe1PXfWjSGM",
        "outputId": "65992701-d89b-42b1-dcb9-2c5a170d7d45"
      },
      "execution_count": 9,
      "outputs": [
        {
          "output_type": "execute_result",
          "data": {
            "text/plain": [
              "' *\\tCorresponde a 0 ou mais ocorrências do padrão anterior\\n+\\tCorresponde a 1 ou mais ocorrências do padrão anterior\\n?\\tCorresponde a 0 ou 1 ocorrência do padrão anterior\\n{n}\\tCorresponde exatamente a n ocorrências do padrão anterior\\n{n,}\\tCorresponde a n ou mais ocorrências do padrão anterior\\n{n,m}\\tCorresponde entre n e m ocorrências do padrão anterior '"
            ],
            "application/vnd.google.colaboratory.intrinsic+json": {
              "type": "string"
            }
          },
          "metadata": {},
          "execution_count": 9
        }
      ]
    },
    {
      "cell_type": "code",
      "source": [
        "'''\n",
        "\n",
        "Agora, vamos entender como construir uma regex através de um exemplo.\n",
        "Imagine que queremos construir uma regex para verificar o formato de um número de telefone.\n",
        "O número terá primeiro o DDD entre parênteses, seguido de um espaço, 4 ou 5 dígitos,\n",
        "um hífen e os 4 dígitos finais. Abaixo, temos uma regex que corresponde a esse padrão:\n",
        "\n",
        "REGEX : \\(\\d{2}\\)\\s\\d{4,5}-\\d{4}\n",
        "\n",
        " \\(\\d{2}\\) - dois digitos dentro de paranteses, como o codigo de area\n",
        " \\s - um espaço\n",
        " \\d{4,5} - quatro ou cinco digitos para o numero de telefone\n",
        " - o hifem literal\n",
        " \\d{4}  - quatro digitos no final\n",
        "\n",
        "\n",
        " Outro exemplo:\n",
        "\n",
        " REGEX: \\b\\d{2}/\\d{2}/\\d{4}\\b\n",
        "\n",
        " \\b — Limite de palavra para garantir que a correspondência seja uma data completa;\n",
        "\\d{2} — Dois dígitos para o dia e o mês;\n",
        "/ — O caractere de barra literal;\n",
        "\\d{4} — Quatro dígitos para o ano;\n",
        "\\b — Limite de palavra no final para garantir que não haja caracteres extras após a data.\n",
        "\n",
        "\n",
        "cOMO USAR ISSO EM PYTHON\n",
        "\n",
        "APLICANDO REGEX:\n",
        "\n",
        "METODO:\n",
        "\n",
        "import re\n",
        "\n",
        "search()\tProcura por um padrão em qualquer parte da string. Retorna o primeiro resultado encontrado.\tre.search(r\"\\d+\", \"Há 1234 alunos\")\tRetorna '1234'\n",
        "\n",
        "match()\tVerifica se o padrão corresponde ao início da string.\tre.match(r\"abc\", \"abcdef\")\tRetorna um match com 'abc'\n",
        "\n",
        "findall()\tRetorna todas as ocorrências do padrão em uma lista.\tre.findall(r\"\\d+\", \"Eu tenho 3 gatos e 2 cachorros\")\tRetorna a lista ['3', '2']\n",
        "\n",
        "sub()\tSubstitui ocorrências do padrão por uma string\n",
        "\n",
        "\n",
        " '''\n",
        "\n"
      ],
      "metadata": {
        "colab": {
          "base_uri": "https://localhost:8080/",
          "height": 88
        },
        "id": "32TY2penjSIz",
        "outputId": "f31f5828-2c63-4d2b-c1c5-d6e0e1fb5079"
      },
      "execution_count": 10,
      "outputs": [
        {
          "output_type": "execute_result",
          "data": {
            "text/plain": [
              "'\\n\\nAgora, vamos entender como construir uma regex através de um exemplo.\\nImagine que queremos construir uma regex para verificar o formato de um número de telefone.\\nO número terá primeiro o DDD entre parênteses, seguido de um espaço, 4 ou 5 dígitos,\\num hífen e os 4 dígitos finais. Abaixo, temos uma regex que corresponde a esse padrão:\\n\\nREGEX : \\\\(\\\\d{2}\\\\)\\\\s\\\\d{4,5}-\\\\d{4}\\n\\n \\\\(\\\\d{2}\\\\) - dois digitos dentro de paranteses, como o codigo de area\\n \\\\s - um espaço\\n \\\\d{4,5} - quatro ou cinco digitos para o numero de telefone\\n - o hifem literal\\n \\\\d{4}  - quatro digitos no final\\n\\n\\n Outro exemplo:\\n\\n REGEX: \\x08\\\\d{2}/\\\\d{2}/\\\\d{4}\\x08\\n\\n \\x08 — Limite de palavra para garantir que a correspondência seja uma data completa;\\n\\\\d{2} — Dois dígitos para o dia e o mês;\\n/ — O caractere de barra literal;\\n\\\\d{4} — Quatro dígitos para o ano;\\n\\x08 — Limite de palavra no final para garantir que não haja caracteres extras após a data.\\n\\n\\ncOMO USAR ISSO EM PYTHON\\n\\nAPLICANDO REGEX:\\n\\nMETODO:\\n\\nimport re\\n\\nsearch()\\tProcura por um padrão em qualquer parte da string. Retorna o primeiro resultado encontrado.\\tre.search(r\"\\\\d+\", \"Há 1234 alunos\")\\tRetorna \\'1234\\'\\n\\nmatch()\\tVerifica se o padrão corresponde ao início da string.\\tre.match(r\"abc\", \"abcdef\")\\tRetorna um match com \\'abc\\'\\n\\nfindall()\\tRetorna todas as ocorrências do padrão em uma lista.\\tre.findall(r\"\\\\d+\", \"Eu tenho 3 gatos e 2 cachorros\")\\tRetorna a lista [\\'3\\', \\'2\\']\\n\\nsub()\\tSubstitui ocorrências do padrão por uma string\\n\\n\\n '"
            ],
            "application/vnd.google.colaboratory.intrinsic+json": {
              "type": "string"
            }
          },
          "metadata": {},
          "execution_count": 10
        }
      ]
    },
    {
      "cell_type": "code",
      "source": [
        "\n",
        "import re\n",
        "\n",
        "texto = \"Entre em contato pelo email support@example.com\"\n",
        "\n",
        "padrao_email = r'[a-zA-Z0-9._%+-]+@[a-zA-Z0-9.-]+\\.[a-zA-Z]{2,}'\n",
        "\n",
        "resultado = re.search(padrao_email, texto)\n",
        "\n",
        "if resultado:\n",
        "    print(\"Email encontrado:\", resultado.group())\n",
        "else:\n",
        "    print(\"Nenhum email encontrado.\")"
      ],
      "metadata": {
        "colab": {
          "base_uri": "https://localhost:8080/"
        },
        "id": "CxPxJZyPjSLJ",
        "outputId": "a3e823d5-b34a-4e9d-ffdc-c56b352e4a4b"
      },
      "execution_count": 11,
      "outputs": [
        {
          "output_type": "stream",
          "name": "stdout",
          "text": [
            "Email encontrado: support@example.com\n"
          ]
        }
      ]
    },
    {
      "cell_type": "code",
      "source": [
        "\n",
        "\n",
        "'''Detalhamento da Expressão Regular\n",
        "\n",
        "Vamos dividir a expressão regular em partes e explicar cada uma:\n",
        "\n",
        "a. [a-zA-Z0-9._%+-]+\n",
        "[a-zA-Z0-9._%+-]: Define um conjunto de caracteres permitidos no início do email. Isso inclui:\n",
        "a-z: Letras minúsculas de 'a' a 'z'.\n",
        "A-Z: Letras maiúsculas de 'A' a 'Z'.\n",
        "0-9: Dígitos de '0' a '9'.\n",
        ".: Ponto.\n",
        "_: Underscore (sublinhado).\n",
        "%: Porcentagem.\n",
        "+: Sinal de mais.\n",
        "-: Hífen.\n",
        "+: Indica que o conjunto de caracteres deve aparecer pelo menos uma vez. Pode aparecer múltiplas vezes.\n",
        "b. @\n",
        "@: Literalmente o símbolo de arroba, que separa o nome do usuário do domínio no endereço de email.\n",
        "c. [a-zA-Z0-9.-]+\n",
        "[a-zA-Z0-9.-]: Define um conjunto de caracteres permitidos no domínio do email. Isso inclui:\n",
        "a-z: Letras minúsculas de 'a' a 'z'.\n",
        "A-Z: Letras maiúsculas de 'A' a 'Z'.\n",
        "0-9: Dígitos de '0' a '9'.\n",
        ".: Ponto.\n",
        "-: Hífen.\n",
        "+: Indica que o conjunto de caracteres deve aparecer pelo menos uma vez. Pode aparecer múltiplas vezes.\n",
        "d. \\.\n",
        "\\.: O caractere de escape \\ indica que o ponto . deve ser tratado literalmente, como parte do domínio.\n",
        "e. [a-zA-Z]{2,}\n",
        "[a-zA-Z]: Define um conjunto de caracteres permitidos na extensão do domínio. Isso inclui:\n",
        "a-z: Letras minúsculas de 'a' a 'z'.\n",
        "A-Z: Letras maiúsculas de 'A' a 'Z'.\n",
        "{2,}: Indica que o conjunto de caracteres deve aparecer pelo menos duas vezes. Pode aparecer múltiplas vezes.'''\n",
        "\n"
      ],
      "metadata": {
        "id": "NHjhIT3-fEMo",
        "colab": {
          "base_uri": "https://localhost:8080/",
          "height": 88
        },
        "outputId": "eb78391b-7314-4ff0-ea5f-ef361fb4a19e"
      },
      "execution_count": 13,
      "outputs": [
        {
          "output_type": "execute_result",
          "data": {
            "text/plain": [
              "\"Detalhamento da Expressão Regular\\n\\nVamos dividir a expressão regular em partes e explicar cada uma:\\n\\na. [a-zA-Z0-9._%+-]+\\n[a-zA-Z0-9._%+-]: Define um conjunto de caracteres permitidos no início do email. Isso inclui:\\na-z: Letras minúsculas de 'a' a 'z'.\\nA-Z: Letras maiúsculas de 'A' a 'Z'.\\n0-9: Dígitos de '0' a '9'.\\n.: Ponto.\\n_: Underscore (sublinhado).\\n%: Porcentagem.\\n+: Sinal de mais.\\n-: Hífen.\\n+: Indica que o conjunto de caracteres deve aparecer pelo menos uma vez. Pode aparecer múltiplas vezes.\\nb. @\\n@: Literalmente o símbolo de arroba, que separa o nome do usuário do domínio no endereço de email.\\nc. [a-zA-Z0-9.-]+\\n[a-zA-Z0-9.-]: Define um conjunto de caracteres permitidos no domínio do email. Isso inclui:\\na-z: Letras minúsculas de 'a' a 'z'.\\nA-Z: Letras maiúsculas de 'A' a 'Z'.\\n0-9: Dígitos de '0' a '9'.\\n.: Ponto.\\n-: Hífen.\\n+: Indica que o conjunto de caracteres deve aparecer pelo menos uma vez. Pode aparecer múltiplas vezes.\\nd. \\\\.\\n\\\\.: O caractere de escape \\\\ indica que o ponto . deve ser tratado literalmente, como parte do domínio.\\ne. [a-zA-Z]{2,}\\n[a-zA-Z]: Define um conjunto de caracteres permitidos na extensão do domínio. Isso inclui:\\na-z: Letras minúsculas de 'a' a 'z'.\\nA-Z: Letras maiúsculas de 'A' a 'Z'.\\n{2,}: Indica que o conjunto de caracteres deve aparecer pelo menos duas vezes. Pode aparecer múltiplas vezes.\""
            ],
            "application/vnd.google.colaboratory.intrinsic+json": {
              "type": "string"
            }
          },
          "metadata": {},
          "execution_count": 13
        }
      ]
    },
    {
      "cell_type": "code",
      "source": [
        "'''\n",
        "\n",
        "Victor trabalha em um sistema de e-commerce e precisa organizar os nomes dos produtos que estão sendo cadastrados pelos lojistas. Esses nomes geralmente vêm com letras misturadas entre maiúsculas e minúsculas, além de espaços desnecessários no início e no final.\n",
        "\n",
        "Ajude Victor a criar um programa que receba um nome de produto e o padronize, deixando todas as letras minúsculas e removendo os espaços extras. '''\n",
        "\n",
        "\n",
        "produto = input(\"Digite o nome do produto: \")\n",
        "produto_padronizado = produto.strip().lower()\n",
        "print(produto_padronizado)"
      ],
      "metadata": {
        "id": "nMOdWv0AfEPq",
        "colab": {
          "base_uri": "https://localhost:8080/"
        },
        "outputId": "6bb0fb5b-a14f-486c-d720-7e597c377e92"
      },
      "execution_count": 15,
      "outputs": [
        {
          "output_type": "stream",
          "name": "stdout",
          "text": [
            "Digite o nome do produto: CARVAO \n",
            "carvao\n"
          ]
        }
      ]
    },
    {
      "cell_type": "code",
      "source": [
        "'''\n",
        "\n",
        "Rafaela trabalha na área de marketing e quer criar mensagens personalizadas para os clientes. Ela precisa de um programa que permita exibir saudações baseadas no nome do cliente e na cidade onde ele mora.\n",
        "\n",
        "Crie um programa que solicite o nome e a cidade de um cliente e exiba uma mensagem de boas-vindas personalizada.\n",
        "\n",
        "\n",
        "'''\n",
        "\n",
        "nome = input(\"Digite o nome do cliente: \")\n",
        "cidade = input(\"Digite a cidade do cliente: \")\n",
        "print(f\"Olá, {nome}! Bem-vinda ao sistema da cidade de {cidade}.\")\n"
      ],
      "metadata": {
        "id": "3cVtJzMNfESY",
        "colab": {
          "base_uri": "https://localhost:8080/"
        },
        "outputId": "691e174f-a417-4724-ecff-07046970fa09"
      },
      "execution_count": 16,
      "outputs": [
        {
          "output_type": "stream",
          "name": "stdout",
          "text": [
            "Digite o nome do cliente: JULIO \n",
            "Digite a cidade do cliente: SAO PAULO \n",
            "Olá, JULIO ! Bem-vinda ao sistema da cidade de SAO PAULO .\n"
          ]
        }
      ]
    },
    {
      "cell_type": "code",
      "source": [
        "'''\n",
        "\n",
        "\n",
        "Imagine que você precisa criar uma funcionalidade para um jogo, onde os jogadores recebem dicas baseadas em partes específicas de uma palavra-chave. Sua missão é desenvolver um programa que extraia trechos importantes de qualquer palavra digitada.\n",
        "\n",
        "Escreva um programa que solicite ao usuário uma palavra e exiba as três primeiras e as três últimas letras.\n",
        "\n",
        "'''\n",
        "\n",
        "texto = input(\"Digite a palavra-chave: \")\n",
        "primeiras = texto[:3]\n",
        "ultimas = texto[-3:]\n",
        "print(f\"Primeiras: {primeiras}\")\n",
        "print(f\"Últimas: {ultimas}\")"
      ],
      "metadata": {
        "colab": {
          "base_uri": "https://localhost:8080/"
        },
        "id": "chrCAKr7MxGR",
        "outputId": "398af88a-1530-46cc-e719-e7c300a6e915"
      },
      "execution_count": 17,
      "outputs": [
        {
          "output_type": "stream",
          "name": "stdout",
          "text": [
            "Digite a palavra-chave: Chave \n",
            "Primeiras: Cha\n",
            "Últimas: ve \n"
          ]
        }
      ]
    },
    {
      "cell_type": "code",
      "source": [
        "'''\n",
        "\n",
        "\n",
        "Renan está desenvolvendo um sistema que verifica se os links de sites parceiros começam com https:// e terminam com .com. Esses critérios são obrigatórios para que o site seja aprovado no cadastro. Ajude Renan a criar um programa que realize essa validação de forma automática.\n",
        "\n",
        "Como você escreveria um programa que peça ao usuário uma URL e informe se ela é válida ou inválida?\n",
        "\n",
        "'''\n",
        "\n",
        "url = input(\"Digite a URL para validação: \")\n",
        "if url.startswith(\"https://\") and url.endswith(\".com\"):\n",
        "    print(\"URL válida!\")\n",
        "else:\n",
        "    print(\"URL inválida!\")\n"
      ],
      "metadata": {
        "colab": {
          "base_uri": "https://localhost:8080/"
        },
        "id": "Il1JcmdsMxI8",
        "outputId": "6a26b29d-c6e5-414b-eb57-727272f02061"
      },
      "execution_count": 18,
      "outputs": [
        {
          "output_type": "stream",
          "name": "stdout",
          "text": [
            "Digite a URL para validação: http \n",
            "URL inválida!\n"
          ]
        }
      ]
    },
    {
      "cell_type": "code",
      "source": [
        "'''\n",
        "\n",
        "\n",
        "João é atendente em uma farmácia e precisa verificar se um cliente forneceu um número de receita válido em uma descrição. O número da receita é sempre o único número presente no texto fornecido pelo cliente. Ele quer um programa que extraia esse número diretamente e confirme se o texto está correto, sem a necessidade de trabalhar com listas ou loops.\n",
        "\n",
        "Com base nesse cenário, crie um programa que receba um texto com uma descrição e exiba uma mensagem com o número encontrado.\n",
        "\n",
        "'''\n",
        "\n",
        "\n",
        "import re\n",
        "\n",
        "texto = input(\"Digite a descrição da receita: \")\n",
        "numero = re.findall(r'\\d+', texto)[0]\n",
        "print(f\"O número da receita é: {numero}\")"
      ],
      "metadata": {
        "id": "V5WFbEvbMxLg"
      },
      "execution_count": null,
      "outputs": []
    },
    {
      "cell_type": "code",
      "source": [
        "'''\n",
        "\n",
        "Nathalia é uma escritora que está revisando um texto para publicação. Durante o processo, ela percebeu que usou a palavra \"bom\" repetidamente, quando queria expressar algo mais forte, como \"ótimo\". Para economizar tempo, Nathalia quer substituir automaticamente todas as ocorrências da palavra \"bom\" por \"ótimo\" no texto.\n",
        "\n",
        "Ajude Nathalia a criar um programa que solicite um texto, a palavra que será substituída e a nova palavra. O programa deve exibir o texto com as alterações aplicadas.'''\n",
        "\n",
        "import re\n",
        "\n",
        "texto = input(\"Digite o texto a ser revisado: \")\n",
        "palavra_antiga = input(\"Qual palavra deseja substituir? \")\n",
        "palavra_nova = input(\"Qual a nova palavra? \")\n",
        "\n",
        "nova_frase = re.sub(rf'\\b{palavra_antiga}\\b', palavra_nova, texto)\n",
        "print(nova_frase)"
      ],
      "metadata": {
        "id": "P4kTfFBkMxOE"
      },
      "execution_count": null,
      "outputs": []
    },
    {
      "cell_type": "code",
      "source": [
        "'''\n",
        "\n",
        "Lorena trabalha no setor de cadastros de uma empresa e precisa garantir que os nomes inseridos pelos clientes estejam no formato correto. O padrão esperado é que os nomes comecem com uma letra maiúscula e contenham apenas letras (sem números ou caracteres especiais). Para facilitar o trabalho, ela quer um programa que valide automaticamente os nomes fornecidos.\n",
        "\n",
        "Ajude a Lorena criando um programa que solicite um nome ao usuário e verifique se ele atende às regras.'''\n",
        "\n",
        "\n",
        "import re\n",
        "\n",
        "nome = input(\"Digite o nome do cliente para validação: \")\n",
        "if re.fullmatch(r'[A-Z][a-z]*', nome):\n",
        "    print(\"Nome válido!\")\n",
        "else:\n",
        "    print(\"Nome inválido!\")\n",
        ""
      ],
      "metadata": {
        "id": "m5kJD6vyMxQu"
      },
      "execution_count": null,
      "outputs": []
    },
    {
      "cell_type": "code",
      "source": [
        "'''\n",
        "\n",
        "Sara trabalha no setor de atendimento de uma empresa e precisa verificar rapidamente se os clientes estão digitando seus números de CPF no formato correto antes de registrar os dados no sistema.\n",
        "\n",
        "O formato esperado do CPF é: três blocos de 3 dígitos separados por pontos (.), seguidos por um bloco de 2 dígitos separados por um traço (-).\n",
        "\n",
        "Ajude Sara a criar um programa que solicite o CPF de um cliente e verifica se ele está no formato correto.\n",
        "\n",
        "'''\n",
        "\n",
        "import re\n",
        "\n",
        "cpf = input(\"Digite o CPF no formato XXX.XXX.XXX-XX: \")\n",
        "padrao = r'\\d{3}\\.\\d{3}\\.\\d{3}-\\d{2}'\n",
        "\n",
        "if re.search(padrao, cpf):\n",
        "    print(\"O CPF está no formato correto.\")\n",
        "else:\n",
        "    print(\"O CPF está no formato incorreto.\")\n",
        "\n",
        ""
      ],
      "metadata": {
        "id": "fWV-wCzSMxTT"
      },
      "execution_count": null,
      "outputs": []
    },
    {
      "cell_type": "code",
      "source": [
        "'''\n",
        "\n",
        "Você trabalha em uma biblioteca e está organizando os títulos de livros no sistema. Você precisa identificar todos os títulos que possuem palavras iniciadas por uma determinada letra, para criar coleções temáticas baseadas em letras específicas. Por exemplo, você poderia usar isso para agrupar livros com palavras que começam com a mesma letra, ajudando na organização ou em campanhas como “Livros com A para você!”.\n",
        "\n",
        "Como você criaria um programa que solicita um texto e uma letra inicial e retorna todas as palavras do texto que começam com essa letra?\n",
        "\n",
        "\n",
        "'''\n",
        "\n",
        "import re\n",
        "\n",
        "texto = input(\"Digite o título dos livro: \")\n",
        "letra = input(\"Digite a letra inicial para pesquisa: \")\n",
        "palavras = re.findall(rf'\\b{letra}[a-zà-ÿ]*', texto, re.IGNORECASE)\n",
        "print(palavras)\n",
        "\n",
        "\n"
      ],
      "metadata": {
        "id": "nzYt0Oh1MxV9"
      },
      "execution_count": null,
      "outputs": []
    },
    {
      "cell_type": "code",
      "source": [
        "'''\n",
        "\n",
        "\n",
        "Carlos é analista de dados em um hospital e está organizando informações de pacientes em um banco de dados. Ele recebe os dados no formato: \"PrimeiroNome Sobrenome - Ano\". Por exemplo, “Monalisa Silva - 1994”.\n",
        "\n",
        "Carlos precisa de um programa que leia as informações, capture cada parte separadamente, nome, o sobrenome e o ano de nascimento para preencher os campos do sistema.\n",
        "\n",
        "Ajude Carlos criando um programa que solicite o nome completo e o ano de nascimento de um paciente e exiba-os separadamente.\n",
        "\n",
        "'''\n",
        "\n",
        "\n",
        "import re\n",
        "\n",
        "dados = input(\"Digite o nome completo e o ano de nascimento do paciente: \")\n",
        "padrao = r'(\\w+) (\\w+) - (\\d{4})'\n",
        "\n",
        "resultado = re.search(padrao, dados)\n",
        "\n",
        "if resultado:\n",
        "    primeiro_nome = resultado.group(1)\n",
        "    sobrenome = resultado.group(2)\n",
        "    ano_nascimento = resultado.group(3)\n",
        "\n",
        "    print(f\"Primeiro Nome: {primeiro_nome}\")\n",
        "    print(f\"Sobrenome: {sobrenome}\")\n",
        "    print(f\"Ano de Nascimento: {ano_nascimento}\")\n",
        "else:\n",
        "    print(\"Formato inválido!\")\n",
        "\n",
        ""
      ],
      "metadata": {
        "id": "xJekJrBfjSOJ"
      },
      "execution_count": null,
      "outputs": []
    },
    {
      "cell_type": "code",
      "source": [],
      "metadata": {
        "id": "HmwPO_MzOHKC"
      },
      "execution_count": null,
      "outputs": []
    },
    {
      "cell_type": "code",
      "source": [],
      "metadata": {
        "id": "xgFgJzj_OHMy"
      },
      "execution_count": null,
      "outputs": []
    },
    {
      "cell_type": "code",
      "source": [],
      "metadata": {
        "id": "YZHV7YGyOHPo"
      },
      "execution_count": null,
      "outputs": []
    },
    {
      "cell_type": "code",
      "source": [],
      "metadata": {
        "id": "yuZt1Y55OHSj"
      },
      "execution_count": null,
      "outputs": []
    }
  ]
}