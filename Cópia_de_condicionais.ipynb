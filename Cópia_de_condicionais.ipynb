{
  "nbformat": 4,
  "nbformat_minor": 0,
  "metadata": {
    "colab": {
      "provenance": [],
      "authorship_tag": "ABX9TyMCXEJ3LcUnabnoxJ3XKrwE",
      "include_colab_link": true
    },
    "kernelspec": {
      "name": "python3",
      "display_name": "Python 3"
    },
    "language_info": {
      "name": "python"
    }
  },
  "cells": [
    {
      "cell_type": "markdown",
      "metadata": {
        "id": "view-in-github",
        "colab_type": "text"
      },
      "source": [
        "<a href=\"https://colab.research.google.com/github/juliocamargo10/Ola-Mundo-/blob/main/C%C3%B3pia_de_condicionais.ipynb\" target=\"_parent\"><img src=\"https://colab.research.google.com/assets/colab-badge.svg\" alt=\"Open In Colab\"/></a>"
      ]
    },
    {
      "cell_type": "markdown",
      "source": [
        "Praticando PyTHON: condicionais if, elif e else\n"
      ],
      "metadata": {
        "id": "kZqUtpBPAQsV"
      }
    },
    {
      "cell_type": "code",
      "source": [
        "# operadores de comperação: maior que x>10 --- menor que x<10 --igual x==10 --diferente x != 10 -- maior ou igual x>= 10 --menor ou igual x<=10\n",
        "#oepradores logicos AND quando todas condições forem verdadeiras, e OR quando pelo menos uma for"
      ],
      "metadata": {
        "id": "JR5oaZjAANdv"
      },
      "execution_count": null,
      "outputs": []
    },
    {
      "cell_type": "code",
      "source": [
        "carro = 'andar'\n",
        "\n",
        "if carro == 'andar':\n",
        "    print('O carro está andando')\n",
        "elif carro == 'parar':\n",
        "    print('O carro está parado')\n",
        "else:\n",
        "    print('O carro está parado')"
      ],
      "metadata": {
        "colab": {
          "base_uri": "https://localhost:8080/"
        },
        "id": "DgCKn2SRTaU2",
        "outputId": "aaccad0d-8848-46d6-b78f-eeac28c1e935"
      },
      "execution_count": 2,
      "outputs": [
        {
          "output_type": "stream",
          "name": "stdout",
          "text": [
            "O carro está andando\n"
          ]
        }
      ]
    },
    {
      "cell_type": "code",
      "source": [
        "idade = int(input('Informe sua idade:  '))\n",
        "tem_documento= input('Tem documento? (sim/Não):  ')\n",
        "\n",
        "\n",
        "if idade >= 18 and tem_documento == 'sim':\n",
        "    print('Você pode dirigir')\n",
        "else:\n",
        "    print('Você não pode dirigir')"
      ],
      "metadata": {
        "id": "15y8__erTaXS",
        "colab": {
          "base_uri": "https://localhost:8080/"
        },
        "outputId": "c1fc3750-b68c-4332-b199-c6a0e8c3f6c4"
      },
      "execution_count": 3,
      "outputs": [
        {
          "output_type": "stream",
          "name": "stdout",
          "text": [
            "Informe sua idade:  18\n",
            "Tem documento? (sim/Não):  sim\n",
            "Você pode dirigir\n"
          ]
        }
      ]
    },
    {
      "cell_type": "code",
      "source": [
        "idade = int(input('Informe sua idade:  ')) # Get the input as a string and convert to an integer immediately\n",
        "tem_documento= input('Tem documento? (sim/Não):  ').strip().capitalize()\n",
        "tem_autorizacao = input('Tem autorização dos pais? (sim/Não):  ').strip().capitalize()\n",
        "\n",
        "\n",
        "\n",
        "if idade >=16 and idade <=17 and tem_documento == 'Sim' and tem_autorizacao == 'Sim': #capitalize makes the first letter capital, so compare to 'Sim'\n",
        "    print('Você pode dirigir com autorização dos pais')\n",
        "\n",
        "elif idade >= 18 and tem_documento == 'Sim':\n",
        "    print('Você pode dirigir')\n",
        "else:\n",
        "    print('Você não pode dirigir')"
      ],
      "metadata": {
        "id": "y0JNvGvh52Ft",
        "colab": {
          "base_uri": "https://localhost:8080/"
        },
        "outputId": "8aa82665-3ca1-4898-8f34-9a49a5c9f5de"
      },
      "execution_count": 4,
      "outputs": [
        {
          "output_type": "stream",
          "name": "stdout",
          "text": [
            "Informe sua idade:  18\n",
            "Tem documento? (sim/Não):  nao \n",
            "Tem autorização dos pais? (sim/Não):  sim \n",
            "Você não pode dirigir\n"
          ]
        }
      ]
    },
    {
      "cell_type": "code",
      "source": [],
      "metadata": {
        "id": "Yu3DhaVU52wQ"
      },
      "execution_count": null,
      "outputs": []
    },
    {
      "cell_type": "markdown",
      "source": [
        "DESAFIOS - CONDICIONANTES\n",
        "\n",
        "Monitorando vendas no comércio\n",
        "\n",
        "\n",
        "\n",
        "\n"
      ],
      "metadata": {
        "id": "zkWthrDU7YOy"
      }
    },
    {
      "cell_type": "code",
      "source": [
        "vendas_maca = int(input('Digite a quantidade de maças vendidas: '))\n",
        "vendas_banana = int(input('Digite a quantidade de bananas vendidas: '))\n",
        "\n",
        "if vendas_maca > vendas_banana:\n",
        "    print('As Maças tiveram mais vendas')\n",
        "elif vendas_banana == vendas_maca:\n",
        "    print('Houve empate')\n",
        "else:\n",
        "    print('As banandas tiveram mais vendas')\n"
      ],
      "metadata": {
        "id": "Lli-JktO7RKx",
        "colab": {
          "base_uri": "https://localhost:8080/"
        },
        "outputId": "d08d060c-0e08-419d-83dd-166b5fee9939"
      },
      "execution_count": 5,
      "outputs": [
        {
          "output_type": "stream",
          "name": "stdout",
          "text": [
            "Digite a quantidade de maças vendidas: 5\n",
            "Digite a quantidade de bananas vendidas: 5\n",
            "Houve empate\n"
          ]
        }
      ]
    },
    {
      "cell_type": "code",
      "source": [],
      "metadata": {
        "id": "w-QWjlVz7RP3"
      },
      "execution_count": null,
      "outputs": []
    },
    {
      "cell_type": "markdown",
      "source": [
        "Desafio - Calculando o tempo total de projeto\n"
      ],
      "metadata": {
        "id": "P1ibY_Rd-dWa"
      }
    },
    {
      "cell_type": "code",
      "source": [
        "dias_atividade_A = int(input('Informe os dias para atividade A: '))\n",
        "dias_atividade_B = int(input('Informe os dias para atividade B: '))\n",
        "dias_atividade_C = int(input('Informe os dias para atividade C: '))\n",
        "\n",
        "total_dias = dias_atividade_A + dias_atividade_B + dias_atividade_C\n",
        "\n",
        "if total_dias >= 0:\n",
        "  print(f'O tempo total do projeto é {total_dias} ')\n",
        "else:\n",
        "  print('Erro: os dias não podem ser negativos')\n",
        "\n",
        "\n",
        "\n"
      ],
      "metadata": {
        "id": "HHJOjwan7RSQ",
        "colab": {
          "base_uri": "https://localhost:8080/"
        },
        "outputId": "87e1391d-a7a2-474f-b40f-59a7343d7eae"
      },
      "execution_count": 6,
      "outputs": [
        {
          "output_type": "stream",
          "name": "stdout",
          "text": [
            "Informe os dias para atividade A: 10\n",
            "Informe os dias para atividade B: 5\n",
            "Informe os dias para atividade C: 5\n",
            "O tempo total do projeto é 20 \n"
          ]
        }
      ]
    },
    {
      "cell_type": "markdown",
      "source": [
        "Temperatura dos servidores\n"
      ],
      "metadata": {
        "id": "byVWnwr-LKtj"
      }
    },
    {
      "cell_type": "code",
      "source": [
        "temperatura = int(input('Digite a temperatura atual:  '))\n",
        "\n",
        "if temperatura <= 25:\n",
        "  print('Temperatura normal')\n",
        "else:\n",
        "  print('Alerta ! Temperatura acima do limite permitido')\n",
        "\n",
        "\n",
        "\n"
      ],
      "metadata": {
        "id": "vlVJBWC2-heb",
        "colab": {
          "base_uri": "https://localhost:8080/"
        },
        "outputId": "3e10c9e1-1231-42e1-ee9a-4e356d59564a"
      },
      "execution_count": 7,
      "outputs": [
        {
          "output_type": "stream",
          "name": "stdout",
          "text": [
            "Digite a temperatura atual:  25\n",
            "Temperatura normal\n"
          ]
        }
      ]
    },
    {
      "cell_type": "markdown",
      "source": [
        "Calculando o IMC"
      ],
      "metadata": {
        "id": "RMZFz_ZRL-gf"
      }
    },
    {
      "cell_type": "code",
      "source": [
        "peso = float(input(\"Digite seu peso (kg): \"))\n",
        "altura = float(input(\"Digite sua altura (m): \"))\n",
        "\n",
        "imc = peso / (altura ** 2)\n",
        "print(f\"Seu IMC é: {imc:.2f}\")\n",
        "\n",
        "if imc < 18.5:\n",
        "    print(\"Você está abaixo do peso.\")\n",
        "elif imc < 25:\n",
        "    print(\"Você está com peso normal.\")\n",
        "else:\n",
        "    print(\"Você está acima do peso.\")\n"
      ],
      "metadata": {
        "id": "Qqz6Dup3MA9o",
        "colab": {
          "base_uri": "https://localhost:8080/"
        },
        "outputId": "bf223e05-76f5-4d5c-ead4-2e2def68f9f0"
      },
      "execution_count": 8,
      "outputs": [
        {
          "output_type": "stream",
          "name": "stdout",
          "text": [
            "Digite seu peso (kg): 75\n",
            "Digite sua altura (m): 176\n",
            "Seu IMC é: 0.00\n",
            "Você está abaixo do peso.\n"
          ]
        }
      ]
    },
    {
      "cell_type": "markdown",
      "source": [
        "Controlando o orçamento mensal"
      ],
      "metadata": {
        "id": "BrH6Y9E_csys"
      }
    },
    {
      "cell_type": "markdown",
      "source": [],
      "metadata": {
        "id": "EIsITYO4cpKa"
      }
    },
    {
      "cell_type": "code",
      "source": [
        "despesas = float(input('Digite seus gastos mensais: '))\n",
        "orcamento = 3000\n",
        "\n",
        "if despesas <= orcamento:\n",
        "    print(f'Você está dentro do orçamento R${despesas:.2f} ')\n",
        "else:\n",
        "    print('Anteção você ultrapassou o limite do orçamento')"
      ],
      "metadata": {
        "id": "L59zpnUWMBDN",
        "colab": {
          "base_uri": "https://localhost:8080/"
        },
        "outputId": "bd5e52aa-5312-4ff0-9082-2ef2e9f24480"
      },
      "execution_count": 9,
      "outputs": [
        {
          "output_type": "stream",
          "name": "stdout",
          "text": [
            "Digite seus gastos mensais: 1000\n",
            "Você está dentro do orçamento R$1000.00 \n"
          ]
        }
      ]
    },
    {
      "cell_type": "markdown",
      "source": [
        "Controle de acesso ao escritório"
      ],
      "metadata": {
        "id": "qbBvyjcLf4Ya"
      }
    },
    {
      "cell_type": "code",
      "source": [
        "hora_atual = int(input(\"Digite a hora atual (formato 24 horas): \"))\n",
        "\n",
        "if 8 <= hora_atual < 18:\n",
        "    print(\"Acesso permitido.\")\n",
        "else:\n",
        "    print(\"Acesso negado.\")"
      ],
      "metadata": {
        "id": "Z8B6hMl4MBF4",
        "colab": {
          "base_uri": "https://localhost:8080/"
        },
        "outputId": "61dad23b-6a4f-47b3-cd31-4329fce16c8d"
      },
      "execution_count": 10,
      "outputs": [
        {
          "output_type": "stream",
          "name": "stdout",
          "text": [
            "Digite a hora atual (formato 24 horas): 10\n",
            "Acesso permitido.\n"
          ]
        }
      ]
    },
    {
      "cell_type": "markdown",
      "source": [
        "Classificando estudantes por média\n"
      ],
      "metadata": {
        "id": "I7_fl_K1iJSw"
      }
    },
    {
      "cell_type": "code",
      "source": [
        "Nota1 = int(input('Digite a primeira nota: '))\n",
        "Nota2 = int(input('Digite a segunda nota: '))\n",
        "Nota3 = int(input('Digite a terceira nota: '))\n",
        "\n",
        "media = (Nota1 + Nota2 + Nota3) / 3\n",
        "\n",
        "if media >= 7:\n",
        "  print('Aprovado')\n",
        "\n",
        "elif media <= 5 and media <7:\n",
        "  print('Recuperação')\n",
        "else:\n",
        "  print('Reprovado')\n",
        "\n",
        "\n"
      ],
      "metadata": {
        "id": "qXZjHx-z52yv",
        "colab": {
          "base_uri": "https://localhost:8080/"
        },
        "outputId": "5c49b591-324c-4cd4-9f9b-1c03b954a046"
      },
      "execution_count": 12,
      "outputs": [
        {
          "output_type": "stream",
          "name": "stdout",
          "text": [
            "Digite a primeira nota: 5\n",
            "Digite a segunda nota: 10\n",
            "Digite a terceira nota: 5\n",
            "Reprovado\n"
          ]
        }
      ]
    },
    {
      "cell_type": "markdown",
      "source": [
        "Calculando pedágio\n",
        "\n",
        "\n"
      ],
      "metadata": {
        "id": "jheQoERUTjsd"
      }
    },
    {
      "cell_type": "code",
      "source": [
        "distancia_percorrida = int(input('Digite a distancia percorrida: '))\n",
        "\n",
        "\n",
        "if distancia_percorrida <= 100:\n",
        "  print('Seu pedágio sera de R$ 10,00')\n",
        "\n",
        "elif distancia_percorrida >100 and distancia_percorrida <= 200:\n",
        "  print('Seu pedágio será de R$ 20,00')\n",
        "\n",
        "else:\n",
        "  print('Seu pedágio será de R$ 30,00')\n",
        "\n"
      ],
      "metadata": {
        "id": "Rph8TK5Ng-Uo",
        "colab": {
          "base_uri": "https://localhost:8080/"
        },
        "outputId": "e1f84b06-f304-47a6-ff66-abb48e977cb9"
      },
      "execution_count": 16,
      "outputs": [
        {
          "output_type": "stream",
          "name": "stdout",
          "text": [
            "Digite a distancia percorrida: 300\n",
            "Seu pedágio será de R$ 30,00\n"
          ]
        }
      ]
    },
    {
      "cell_type": "markdown",
      "source": [
        "Verificando a paridade de um número\n",
        "\n",
        "\n",
        "\n",
        "\n"
      ],
      "metadata": {
        "id": "mIkdl9vcw9dj"
      }
    },
    {
      "cell_type": "markdown",
      "source": [],
      "metadata": {
        "id": "XSJEQ-Fbw56T"
      }
    },
    {
      "cell_type": "code",
      "source": [
        "numero = int(input(\"Digite um número inteiro: \"))\n",
        "\n",
        "if numero % 2 == 0:\n",
        "    print(\"O número é par.\")\n",
        "else:\n",
        "    print(\"O número é ímpar.\")"
      ],
      "metadata": {
        "id": "RGink0r4Thd6",
        "colab": {
          "base_uri": "https://localhost:8080/"
        },
        "outputId": "b5854add-b778-4986-e80e-c4ed2adaa430"
      },
      "execution_count": 17,
      "outputs": [
        {
          "output_type": "stream",
          "name": "stdout",
          "text": [
            "Digite um número inteiro: 5\n",
            "O número é ímpar.\n"
          ]
        }
      ]
    },
    {
      "cell_type": "code",
      "source": [
        "renda = float(input(\"Digite o valor da sua renda mensal: \"))\n",
        "parcela = float(input(\"Digite o valor da parcela desejada: \"))\n",
        "\n",
        "if renda > 2000 and parcela <= 0.3 * renda:\n",
        "    print(\"Empréstimo aprovado!\")\n",
        "elif renda <= 2000:\n",
        "    print(\"Empréstimo negado: renda insuficiente.\")\n",
        "else:\n",
        "    print(\"Empréstimo negado: parcela acima de 30% da renda.\")"
      ],
      "metadata": {
        "id": "sifpYrweThgk",
        "colab": {
          "base_uri": "https://localhost:8080/"
        },
        "outputId": "d7177376-d453-4933-b670-4a079e1eb331"
      },
      "execution_count": 18,
      "outputs": [
        {
          "output_type": "stream",
          "name": "stdout",
          "text": [
            "Digite o valor da sua renda mensal: 50\n",
            "Digite o valor da parcela desejada: 10\n",
            "Empréstimo negado: renda insuficiente.\n"
          ]
        }
      ]
    },
    {
      "cell_type": "code",
      "source": [],
      "metadata": {
        "id": "8kOeY6KCg-Xj"
      },
      "execution_count": null,
      "outputs": []
    },
    {
      "cell_type": "code",
      "source": [],
      "metadata": {
        "id": "nB10KoZOg-aK"
      },
      "execution_count": null,
      "outputs": []
    }
  ]
}