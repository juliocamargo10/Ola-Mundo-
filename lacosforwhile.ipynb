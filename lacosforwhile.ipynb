{
  "nbformat": 4,
  "nbformat_minor": 0,
  "metadata": {
    "colab": {
      "provenance": [],
      "authorship_tag": "ABX9TyOWkPcIOYL0S+lqTel5mbn7",
      "include_colab_link": true
    },
    "kernelspec": {
      "name": "python3",
      "display_name": "Python 3"
    },
    "language_info": {
      "name": "python"
    }
  },
  "cells": [
    {
      "cell_type": "markdown",
      "metadata": {
        "id": "view-in-github",
        "colab_type": "text"
      },
      "source": [
        "<a href=\"https://colab.research.google.com/github/juliocamargo10/Ola-Mundo-/blob/main/lacosforwhile.ipynb\" target=\"_parent\"><img src=\"https://colab.research.google.com/assets/colab-badge.svg\" alt=\"Open In Colab\"/></a>"
      ]
    },
    {
      "cell_type": "markdown",
      "source": [
        "Compreendendo laços\n",
        "\n",
        "\n"
      ],
      "metadata": {
        "id": "4VJK4aRwM1Zt"
      }
    },
    {
      "cell_type": "code",
      "source": [
        "clientes = [\"João\", \"Maria\", \"Carlos\", \"Ana\", \"Beatriz\"]\n",
        "\n",
        "for nome in clientes:\n",
        "  if nome == \"Carlos\":\n",
        "    print(\"Olá, Carlos!\")\n",
        "    break\n",
        "    print(nome)"
      ],
      "metadata": {
        "colab": {
          "base_uri": "https://localhost:8080/"
        },
        "id": "NNda-dccMyQs",
        "outputId": "58c0657d-f42d-48d3-e6da-2dc3c671b6fb"
      },
      "execution_count": 2,
      "outputs": [
        {
          "output_type": "stream",
          "name": "stdout",
          "text": [
            "Olá, Carlos!\n"
          ]
        }
      ]
    },
    {
      "cell_type": "markdown",
      "source": [
        "O que é um loop infinito?"
      ],
      "metadata": {
        "id": "w_3CsyxXOasv"
      }
    },
    {
      "cell_type": "code",
      "source": [
        "#contador += 1  # Atualiza o contador para evitar o loop infinito\n",
        "\n",
        "contador = 0\n",
        "\n",
        "while contador < 5:\n",
        "  print(contador)\n",
        "  contador += 1"
      ],
      "metadata": {
        "colab": {
          "base_uri": "https://localhost:8080/"
        },
        "id": "u8JdHl9mN2oS",
        "outputId": "03aa50a4-2227-4535-cebe-419f5c089eba"
      },
      "execution_count": 3,
      "outputs": [
        {
          "output_type": "stream",
          "name": "stdout",
          "text": [
            "0\n",
            "1\n",
            "2\n",
            "3\n",
            "4\n"
          ]
        }
      ]
    },
    {
      "cell_type": "code",
      "source": [],
      "metadata": {
        "id": "QuL13889QOqg"
      },
      "execution_count": 3,
      "outputs": []
    },
    {
      "cell_type": "code",
      "source": [
        "#uma forma de fazer aparecer o nome na tela cinco vezes\n",
        "\n",
        "for i in range(5):\n",
        "  print('Assunto finalizado!!')\n",
        "\n"
      ],
      "metadata": {
        "colab": {
          "base_uri": "https://localhost:8080/"
        },
        "id": "oMqfJDUZN2qP",
        "outputId": "99ed8307-4f40-45f5-de5b-763239868b48"
      },
      "execution_count": 4,
      "outputs": [
        {
          "output_type": "stream",
          "name": "stdout",
          "text": [
            "Assunto finalizado!!\n",
            "Assunto finalizado!!\n",
            "Assunto finalizado!!\n",
            "Assunto finalizado!!\n",
            "Assunto finalizado!!\n"
          ]
        }
      ]
    },
    {
      "cell_type": "markdown",
      "source": [
        "Calculando a soma de números"
      ],
      "metadata": {
        "id": "8vAyzvX8VWbO"
      }
    },
    {
      "cell_type": "code",
      "source": [
        "numeros = [10, 20, 30, 40, 50]\n",
        "\n",
        "soma = 0\n",
        "\n",
        "for numero in numeros:\n",
        "  soma += numero\n",
        "\n",
        "print(\"A soma dos números é:\", soma)\n",
        "\n",
        "\n"
      ],
      "metadata": {
        "colab": {
          "base_uri": "https://localhost:8080/"
        },
        "id": "2HHdkw93QOtk",
        "outputId": "39a8af77-1f7d-47e3-9420-e58caa43d82a"
      },
      "execution_count": 5,
      "outputs": [
        {
          "output_type": "stream",
          "name": "stdout",
          "text": [
            "A soma dos números é: 150\n"
          ]
        }
      ]
    },
    {
      "cell_type": "code",
      "source": [
        "projetos = [\"website\", \"jogo\", \"análise de dados\", None, \"aplicativo móvel\"]\n",
        "\n",
        "for projeto in projetos:\n",
        "  if projeto is None:\n",
        "    continue\n",
        "  print(projeto)\n",
        "\n"
      ],
      "metadata": {
        "colab": {
          "base_uri": "https://localhost:8080/"
        },
        "id": "VKcvWofuQOwf",
        "outputId": "836611b4-ae85-4a5f-c8c2-a11aecd657d7"
      },
      "execution_count": 6,
      "outputs": [
        {
          "output_type": "stream",
          "name": "stdout",
          "text": [
            "website\n",
            "jogo\n",
            "análise de dados\n",
            "aplicativo móvel\n"
          ]
        }
      ]
    },
    {
      "cell_type": "code",
      "source": [
        "livros = [\"1984\", \"Dom Casmurro\", \"O Pequeno Príncipe\", \"O Hobbit\", \"Orgulho e Preconceito\"]\n",
        "\n",
        "for livro in livros:\n",
        "  if livro =='O Hobbit':\n",
        "    print('Livro encontrato: O Hobbit')\n",
        "    break\n",
        "    print(livro)"
      ],
      "metadata": {
        "colab": {
          "base_uri": "https://localhost:8080/"
        },
        "id": "2F72KQCMQOzS",
        "outputId": "0ecc8a52-69ca-45d9-fb66-f7a30d421bc7"
      },
      "execution_count": 7,
      "outputs": [
        {
          "output_type": "stream",
          "name": "stdout",
          "text": [
            "Livro encontrato: O Hobbit\n"
          ]
        }
      ]
    },
    {
      "cell_type": "code",
      "source": [
        "estoque = 5\n",
        "\n",
        "while estoque > 0:\n",
        "    print(f\"Venda realizada! Estoque restante: {estoque}\")\n",
        "    estoque -= 1\n",
        "\n",
        "print(\"Estoque esgotado\")"
      ],
      "metadata": {
        "colab": {
          "base_uri": "https://localhost:8080/"
        },
        "id": "A_QR4ElZQO2q",
        "outputId": "f97b128d-48c4-49c5-97a2-3e2e8704e0a4"
      },
      "execution_count": 8,
      "outputs": [
        {
          "output_type": "stream",
          "name": "stdout",
          "text": [
            "Venda realizada! Estoque restante: 5\n",
            "Venda realizada! Estoque restante: 4\n",
            "Venda realizada! Estoque restante: 3\n",
            "Venda realizada! Estoque restante: 2\n",
            "Venda realizada! Estoque restante: 1\n",
            "Estoque esgotado\n"
          ]
        }
      ]
    },
    {
      "cell_type": "markdown",
      "source": [
        "Contagem Regressiva"
      ],
      "metadata": {
        "id": "dtSvfQrVjUSX"
      }
    },
    {
      "cell_type": "code",
      "source": [
        "'''Aline está implementando uma funcionalidade que exibe mensagens personalizadas para os clientes durante uma promoção especial da sua nova loja de livros. O sistema deve exibir uma mensagem de contagem regressiva personalizada para cada número de 10 até 1, e ao final exibir a mensagem: \"Aproveite a promoção agora!\".\n",
        "\n",
        "Crie um programa que utilize um laço for para exibir as seguintes mensagens:\n",
        "\n",
        "Para números pares, exiba: \"Faltam apenas <número> segundos - Não perca essa oportunidade!\".\n",
        "Para números ímpares, exiba: \"A contagem continua: <número> segundos restantes.\".\n",
        "Ao final da contagem, exiba a mensagem: \"Aproveite a promoção agora!\".'''\n",
        "\n",
        "\n",
        "'''O operador % (módulo) é usado para verificar se segundos é par.\n",
        "Se segundos % 2 == 0 (resto da divisão por 2 é zero), significa que o número é par.\n",
        "Se segundos % 2 != 0, então é ímpar.'''\n",
        "\n",
        "\n",
        "for segundos in range(10, 0, -1):\n",
        "    if segundos % 2 == 0:\n",
        "        print(f\"Faltam apenas {segundos} segundos - Não perca essa oportunidade!\")\n",
        "    else:\n",
        "        print(f\"A contagem continua: {segundos} segundos restantes.\")\n",
        "\n",
        "print(\"Aproveite a promoção agora!\")\n"
      ],
      "metadata": {
        "id": "NgPXg7Qofdcu",
        "colab": {
          "base_uri": "https://localhost:8080/"
        },
        "outputId": "9c66ff84-c701-49ff-aae5-db08d5001b78"
      },
      "execution_count": 9,
      "outputs": [
        {
          "output_type": "stream",
          "name": "stdout",
          "text": [
            "Faltam apenas 10 segundos - Não perca essa oportunidade!\n",
            "A contagem continua: 9 segundos restantes.\n",
            "Faltam apenas 8 segundos - Não perca essa oportunidade!\n",
            "A contagem continua: 7 segundos restantes.\n",
            "Faltam apenas 6 segundos - Não perca essa oportunidade!\n",
            "A contagem continua: 5 segundos restantes.\n",
            "Faltam apenas 4 segundos - Não perca essa oportunidade!\n",
            "A contagem continua: 3 segundos restantes.\n",
            "Faltam apenas 2 segundos - Não perca essa oportunidade!\n",
            "A contagem continua: 1 segundos restantes.\n",
            "Aproveite a promoção agora!\n"
          ]
        }
      ]
    },
    {
      "cell_type": "markdown",
      "source": [
        "Utilidade do continue em laços"
      ],
      "metadata": {
        "id": "iYS2R_ISkAdD"
      }
    },
    {
      "cell_type": "code",
      "source": [
        "#o comando vai trazer os livros disponiveis dentro do estoque. E aquele que estão com status '0' o comando: if livro[\"estoque\"] == 0:faz esse papel de continuar mesmo que o estoque esteja zero e trazer o que esta disponivel\n",
        "\n",
        "\n",
        "\n",
        "livros = [\n",
        "    {\"nome\": \"1984\", \"estoque\": 5},\n",
        "    {\"nome\": \"Dom Casmurro\", \"estoque\": 0},\n",
        "    {\"nome\": \"O Pequeno Príncipe\", \"estoque\": 3},\n",
        "    {\"nome\": \"O Hobbit\", \"estoque\": 0},\n",
        "    {\"nome\": \"Orgulho e Preconceito\", \"estoque\": 2}\n",
        "]\n",
        "\n",
        "for livro in livros:\n",
        "    if livro[\"estoque\"] == 0:\n",
        "        continue\n",
        "    print(f\"Livro disponível: {livro['nome']}\")"
      ],
      "metadata": {
        "id": "IxskYHjKfdgR",
        "colab": {
          "base_uri": "https://localhost:8080/"
        },
        "outputId": "79be6dfe-81ea-42d3-c728-cceae8e38b59"
      },
      "execution_count": 10,
      "outputs": [
        {
          "output_type": "stream",
          "name": "stdout",
          "text": [
            "Livro disponível: 1984\n",
            "Livro disponível: O Pequeno Príncipe\n",
            "Livro disponível: Orgulho e Preconceito\n"
          ]
        }
      ]
    },
    {
      "cell_type": "code",
      "source": [
        "while True:\n",
        "    nome_usuario = input(\"Digite seu nome de usuário: \")\n",
        "    senha = input(\"Digite sua senha: \")\n",
        "\n",
        "    if len(nome_usuario) < 5:\n",
        "        print(\"O nome de usuário deve ter pelo menos 5 caracteres.\")\n",
        "        continue\n",
        "\n",
        "    if len(senha) < 8:\n",
        "        print(\"A senha deve ter pelo menos 8 caracteres.\")\n",
        "        continue\n",
        "\n",
        "    print(\"Cadastro realizado com sucesso!\")\n",
        "    break"
      ],
      "metadata": {
        "id": "MST-ZfQFN2to",
        "colab": {
          "base_uri": "https://localhost:8080/",
          "height": 512
        },
        "outputId": "353b99a4-d646-4fd4-d6a0-6ba3ad1209bf"
      },
      "execution_count": 11,
      "outputs": [
        {
          "output_type": "stream",
          "name": "stdout",
          "text": [
            "Digite seu nome de usuário: juliocamargo\n",
            "Digite sua senha: 123456\n",
            "A senha deve ter pelo menos 8 caracteres.\n",
            "Digite seu nome de usuário: julio\n",
            "Digite sua senha: 123456\n",
            "A senha deve ter pelo menos 8 caracteres.\n",
            "Digite seu nome de usuário: julio camargo \n",
            "Digite sua senha: 1234569\n",
            "A senha deve ter pelo menos 8 caracteres.\n"
          ]
        },
        {
          "output_type": "error",
          "ename": "KeyboardInterrupt",
          "evalue": "Interrupted by user",
          "traceback": [
            "\u001b[0;31m---------------------------------------------------------------------------\u001b[0m",
            "\u001b[0;31mKeyboardInterrupt\u001b[0m                         Traceback (most recent call last)",
            "\u001b[0;32m<ipython-input-11-118501b1bd1d>\u001b[0m in \u001b[0;36m<cell line: 0>\u001b[0;34m()\u001b[0m\n\u001b[1;32m      1\u001b[0m \u001b[0;32mwhile\u001b[0m \u001b[0;32mTrue\u001b[0m\u001b[0;34m:\u001b[0m\u001b[0;34m\u001b[0m\u001b[0;34m\u001b[0m\u001b[0m\n\u001b[0;32m----> 2\u001b[0;31m     \u001b[0mnome_usuario\u001b[0m \u001b[0;34m=\u001b[0m \u001b[0minput\u001b[0m\u001b[0;34m(\u001b[0m\u001b[0;34m\"Digite seu nome de usuário: \"\u001b[0m\u001b[0;34m)\u001b[0m\u001b[0;34m\u001b[0m\u001b[0;34m\u001b[0m\u001b[0m\n\u001b[0m\u001b[1;32m      3\u001b[0m     \u001b[0msenha\u001b[0m \u001b[0;34m=\u001b[0m \u001b[0minput\u001b[0m\u001b[0;34m(\u001b[0m\u001b[0;34m\"Digite sua senha: \"\u001b[0m\u001b[0;34m)\u001b[0m\u001b[0;34m\u001b[0m\u001b[0;34m\u001b[0m\u001b[0m\n\u001b[1;32m      4\u001b[0m \u001b[0;34m\u001b[0m\u001b[0m\n\u001b[1;32m      5\u001b[0m     \u001b[0;32mif\u001b[0m \u001b[0mlen\u001b[0m\u001b[0;34m(\u001b[0m\u001b[0mnome_usuario\u001b[0m\u001b[0;34m)\u001b[0m \u001b[0;34m<\u001b[0m \u001b[0;36m5\u001b[0m\u001b[0;34m:\u001b[0m\u001b[0;34m\u001b[0m\u001b[0;34m\u001b[0m\u001b[0m\n",
            "\u001b[0;32m/usr/local/lib/python3.11/dist-packages/ipykernel/kernelbase.py\u001b[0m in \u001b[0;36mraw_input\u001b[0;34m(self, prompt)\u001b[0m\n\u001b[1;32m   1175\u001b[0m                 \u001b[0;34m\"raw_input was called, but this frontend does not support input requests.\"\u001b[0m\u001b[0;34m\u001b[0m\u001b[0;34m\u001b[0m\u001b[0m\n\u001b[1;32m   1176\u001b[0m             )\n\u001b[0;32m-> 1177\u001b[0;31m         return self._input_request(\n\u001b[0m\u001b[1;32m   1178\u001b[0m             \u001b[0mstr\u001b[0m\u001b[0;34m(\u001b[0m\u001b[0mprompt\u001b[0m\u001b[0;34m)\u001b[0m\u001b[0;34m,\u001b[0m\u001b[0;34m\u001b[0m\u001b[0;34m\u001b[0m\u001b[0m\n\u001b[1;32m   1179\u001b[0m             \u001b[0mself\u001b[0m\u001b[0;34m.\u001b[0m\u001b[0m_parent_ident\u001b[0m\u001b[0;34m[\u001b[0m\u001b[0;34m\"shell\"\u001b[0m\u001b[0;34m]\u001b[0m\u001b[0;34m,\u001b[0m\u001b[0;34m\u001b[0m\u001b[0;34m\u001b[0m\u001b[0m\n",
            "\u001b[0;32m/usr/local/lib/python3.11/dist-packages/ipykernel/kernelbase.py\u001b[0m in \u001b[0;36m_input_request\u001b[0;34m(self, prompt, ident, parent, password)\u001b[0m\n\u001b[1;32m   1217\u001b[0m             \u001b[0;32mexcept\u001b[0m \u001b[0mKeyboardInterrupt\u001b[0m\u001b[0;34m:\u001b[0m\u001b[0;34m\u001b[0m\u001b[0;34m\u001b[0m\u001b[0m\n\u001b[1;32m   1218\u001b[0m                 \u001b[0;31m# re-raise KeyboardInterrupt, to truncate traceback\u001b[0m\u001b[0;34m\u001b[0m\u001b[0;34m\u001b[0m\u001b[0m\n\u001b[0;32m-> 1219\u001b[0;31m                 \u001b[0;32mraise\u001b[0m \u001b[0mKeyboardInterrupt\u001b[0m\u001b[0;34m(\u001b[0m\u001b[0;34m\"Interrupted by user\"\u001b[0m\u001b[0;34m)\u001b[0m \u001b[0;32mfrom\u001b[0m \u001b[0;32mNone\u001b[0m\u001b[0;34m\u001b[0m\u001b[0;34m\u001b[0m\u001b[0m\n\u001b[0m\u001b[1;32m   1220\u001b[0m             \u001b[0;32mexcept\u001b[0m \u001b[0mException\u001b[0m\u001b[0;34m:\u001b[0m\u001b[0;34m\u001b[0m\u001b[0;34m\u001b[0m\u001b[0m\n\u001b[1;32m   1221\u001b[0m                 \u001b[0mself\u001b[0m\u001b[0;34m.\u001b[0m\u001b[0mlog\u001b[0m\u001b[0;34m.\u001b[0m\u001b[0mwarning\u001b[0m\u001b[0;34m(\u001b[0m\u001b[0;34m\"Invalid Message:\"\u001b[0m\u001b[0;34m,\u001b[0m \u001b[0mexc_info\u001b[0m\u001b[0;34m=\u001b[0m\u001b[0;32mTrue\u001b[0m\u001b[0;34m)\u001b[0m\u001b[0;34m\u001b[0m\u001b[0;34m\u001b[0m\u001b[0m\n",
            "\u001b[0;31mKeyboardInterrupt\u001b[0m: Interrupted by user"
          ]
        }
      ]
    },
    {
      "cell_type": "code",
      "source": [
        "while True:\n",
        "  renda = int(input('Digite Sua renda R$: '))\n",
        "  Risco = input('Digite seu risco:')\n",
        "\n",
        "  if renda >= 1000 and Risco == 'A' or Risco == 'B':\n",
        "    print('Credito Aprovado')\n",
        "    continue\n",
        "  else:\n",
        "    print('Credito Negado')\n",
        "    break\n",
        "\n",
        "\n",
        "\n",
        "\n",
        ""
      ],
      "metadata": {
        "id": "vttSdH02lqOt"
      },
      "execution_count": null,
      "outputs": []
    },
    {
      "cell_type": "code",
      "source": [],
      "metadata": {
        "id": "wddgxQXvqUg_"
      },
      "execution_count": null,
      "outputs": []
    },
    {
      "cell_type": "code",
      "source": [],
      "metadata": {
        "id": "G8zFmz-dqUkI"
      },
      "execution_count": null,
      "outputs": []
    },
    {
      "cell_type": "code",
      "source": [],
      "metadata": {
        "id": "AuEhhxlxqUnX"
      },
      "execution_count": null,
      "outputs": []
    },
    {
      "cell_type": "code",
      "source": [],
      "metadata": {
        "id": "h4IYS3RtqUqL"
      },
      "execution_count": null,
      "outputs": []
    },
    {
      "cell_type": "code",
      "source": [],
      "metadata": {
        "id": "ldwvCgZJqUsy"
      },
      "execution_count": null,
      "outputs": []
    },
    {
      "cell_type": "code",
      "source": [],
      "metadata": {
        "id": "MMviQs1DqUvi"
      },
      "execution_count": null,
      "outputs": []
    },
    {
      "cell_type": "code",
      "source": [],
      "metadata": {
        "id": "-3NPZnWPlqUm"
      },
      "execution_count": null,
      "outputs": []
    },
    {
      "cell_type": "markdown",
      "source": [],
      "metadata": {
        "id": "Vvzec9NXMpFS"
      }
    }
  ]
}