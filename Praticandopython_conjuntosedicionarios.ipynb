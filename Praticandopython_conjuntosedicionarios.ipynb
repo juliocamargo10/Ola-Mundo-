{
  "nbformat": 4,
  "nbformat_minor": 0,
  "metadata": {
    "colab": {
      "provenance": [],
      "authorship_tag": "ABX9TyObieCDubupPmhLi47ugFtf",
      "include_colab_link": true
    },
    "kernelspec": {
      "name": "python3",
      "display_name": "Python 3"
    },
    "language_info": {
      "name": "python"
    }
  },
  "cells": [
    {
      "cell_type": "markdown",
      "metadata": {
        "id": "view-in-github",
        "colab_type": "text"
      },
      "source": [
        "<a href=\"https://colab.research.google.com/github/juliocamargo10/Ola-Mundo-/blob/main/Praticandopython_conjuntosedicionarios.ipynb\" target=\"_parent\"><img src=\"https://colab.research.google.com/assets/colab-badge.svg\" alt=\"Open In Colab\"/></a>"
      ]
    },
    {
      "cell_type": "markdown",
      "source": [
        "Entendendo conjuntos em Python"
      ],
      "metadata": {
        "id": "1RvDwNF0JZiX"
      }
    },
    {
      "cell_type": "code",
      "source": [
        "'''\n",
        "\n",
        "Podemos defini-los diretamente com chaves {}, onde os elementos são separados por vírgula. Por exemplo, um conjunto pode conter elementos como a, b e c:\n",
        "conjunto1 = {'a', 'b', 'c'}\n",
        "\n",
        "\n",
        "Outra forma de criar um conjunto é através da função set(), que é nativa do Python. Nessa função, devemos passar uma lista que contém os elementos que queremos dentro daquele conjunto:\n",
        "conjunto2 = set([3, 4, 5, 6])\n",
        "\n",
        "\n",
        "\n",
        "'''\n"
      ],
      "metadata": {
        "colab": {
          "base_uri": "https://localhost:8080/",
          "height": 53
        },
        "id": "HeKrzVFcJKgV",
        "outputId": "a8165979-8440-49f2-833c-ca8af39d20ed"
      },
      "execution_count": null,
      "outputs": [
        {
          "output_type": "execute_result",
          "data": {
            "text/plain": [
              "\"\\n\\nPodemos defini-los diretamente com chaves {}, onde os elementos são separados por vírgula. Por exemplo, um conjunto pode conter elementos como a, b e c:\\nconjunto1 = {'a', 'b', 'c'}\\n\\n\\nOutra forma de criar um conjunto é através da função set(), que é nativa do Python. Nessa função, devemos passar uma lista que contém os elementos que queremos dentro daquele conjunto:\\nconjunto2 = set([3, 4, 5, 6])\\n\\n\\n\\n\""
            ],
            "application/vnd.google.colaboratory.intrinsic+json": {
              "type": "string"
            }
          },
          "metadata": {},
          "execution_count": 2
        }
      ]
    },
    {
      "cell_type": "markdown",
      "source": [
        "Criando conjuntos vazios"
      ],
      "metadata": {
        "id": "QelBRQkWKFa0"
      }
    },
    {
      "cell_type": "code",
      "source": [
        "'''\n",
        "\n",
        "A função set() é útil, especialmente, para inicializar um conjunto vazio, ou seja, um conjunto que não contém nenhum elemento. Isso porquê utilizar chaves vazias criaria outra estrutura, não um conjunto:\n",
        "\n",
        "\n",
        "'''\n",
        "\n",
        "tipo = type({})\n",
        "print(tipo) # Saída: <class 'dict'>\n"
      ],
      "metadata": {
        "colab": {
          "base_uri": "https://localhost:8080/"
        },
        "id": "VTY4R5MbJKi7",
        "outputId": "ebed315c-a195-43b9-fcd8-bae4faa09582"
      },
      "execution_count": null,
      "outputs": [
        {
          "output_type": "stream",
          "name": "stdout",
          "text": [
            "<class 'dict'>\n"
          ]
        }
      ]
    },
    {
      "cell_type": "code",
      "source": [
        "'''\n",
        "\n",
        "Para criar conjuntos vazios, devemos obrigatoriamente usar a função set() sem argumentos:\n",
        "\n",
        "'''\n",
        "\n",
        "conjunto_vazio = set()\n"
      ],
      "metadata": {
        "id": "BEXleEqpJKll"
      },
      "execution_count": null,
      "outputs": []
    },
    {
      "cell_type": "markdown",
      "source": [
        "Acessando elementos"
      ],
      "metadata": {
        "id": "CZZO92prKV1J"
      }
    },
    {
      "cell_type": "code",
      "source": [
        "'''\n",
        "\n",
        "Podemos acessar e modificar elementos de conjuntos utilizando os operadores in e not in, que verificam, respectivamente, a presença ou ausência de um elemento e retornam um valor booleano (verdadeiro ou falso).\n",
        "\n",
        "'''\n",
        "\n",
        "# Considere conjunto = {1, 2, 3, 4, 5}:\n",
        "# in - Verifica se um elemento está presente em um conjunto. Retorna True se o elemento estiver no conjunto e False caso contrário.\n",
        "# not in - Verifica se um elemento não está presente em um conjunto. Retorna True se o elemento não estiver no conjunto e False caso contrário.\n",
        "\n",
        "\n",
        "\n"
      ],
      "metadata": {
        "id": "VcVtUhL_JKoB"
      },
      "execution_count": null,
      "outputs": []
    },
    {
      "cell_type": "markdown",
      "source": [
        "Explorando métodos de manipulação"
      ],
      "metadata": {
        "id": "Qxv33LMAKrJY"
      }
    },
    {
      "cell_type": "code",
      "source": [
        "# Considere conjunto = {1, 2, 3}:\n",
        "\n",
        "'''\n",
        "\n",
        "add(elemento)\tAdiciona um único elemento.\tconjunto.add(4)\t{1, 2, 3, 4}\n",
        "update(iterável)\tAdiciona vários elementos de uma vez.\tconjunto.update([5, 6, 7])\t{1, 2, 3, 4, 5, 6, 7}\n",
        "remove(elemento)\tRemove um item. Se o elemento não existir, gera um KeyError.\tconjunto.remove(2)\t{1, 3, 4, 5, 6, 7}\n",
        "discard(elemento)\tRemove um item. Se o elemento não existir, não gera erro.\tconjunto.discard(2)\t{1, 3, 4, 5, 6, 7}\n",
        "pop()\tRemove e retorna um elemento aleatório.\tconjunto.pop()\t{3, 4, 5, 6, 7}\n",
        "clear()\tRemove todos os elementos do conjunto.\tconjunto.clear()\tset()\n",
        "\n",
        "\n",
        "Além disso, podemos realizar operações entre conjuntos, como união, interseção, diferença e diferença simétrica. Essas operações são utilizadas, principalmente, quando trabalhamos com operações matemáticas em um projeto.\n",
        "\n",
        "union(set2) ou (|)\tUnião de dois conjuntos.\ta.union(b) ou a | b\t{1, 2, 3, 4, 5}\n",
        "intersection(set2) ou (&)\tInterseção de dois conjuntos.\ta.intersection(b) ou a & b\t{3}\n",
        "difference(set2) ou (-)\tDiferença entre dois conjuntos, considerando elementos exclusivos do primeiro conjunto.\ta.difference(b) ou a - b\t{1, 2}\n",
        "symmetric_difference(set2) ou (^)\tDiferença entre dois conjuntos, considerando elementos exclusivos de ambos conjuntos.\ta.symmetric_difference(b) ou a ^ b\t{1, 2, 4, 5}\n",
        "\n",
        "\n",
        "Também existem métodos de manipulação utilizados para verificar relações entre conjuntos. Assim, podemos verificar se há relações de subconjunto e superconjunto,\n",
        "além de conferir existência de elementos em comum e a quantidade de elementos.\n",
        "Também é possível criar uma cópia de um conjunto caso necessário.\n",
        "\n",
        "#Considere a = {1, 2} e b = {1, 2, 3, 4}:\n",
        "\n",
        "\n",
        "issubset(set2) ou (<=)\tVerifica se um conjunto é subconjunto de outro.\ta.issubset(b) ou a <= b\tTrue\n",
        "issuperset(set2) ou (>=)\tVerifica se um conjunto é superconjunto de outro.\tb.issuperset(a) ou a >= b\tTrue\n",
        "isdisjoint(set2)\tVerifica se os conjuntos não têm elementos em comum.\tc = {5, 6, 7}\n",
        "\n",
        "a.isdisjoint(c)\n",
        "\tTrue\n",
        "len(conjunto)\tVerifica o número de elementos de um conjunto.\tlen(a)\t2\n",
        "copy()\tRetorna uma cópia do conjunto.\tcopia = a.copy()\n",
        "\n",
        "print(copia)\n",
        "\t{1, 2}\n",
        "\n",
        "'''\n"
      ],
      "metadata": {
        "id": "NlJPRFp4JKqt"
      },
      "execution_count": null,
      "outputs": []
    },
    {
      "cell_type": "markdown",
      "source": [
        "Entendendo dicionários em Python"
      ],
      "metadata": {
        "id": "MZThECchLeom"
      }
    },
    {
      "cell_type": "code",
      "source": [
        "# Os dicionários são estruturas de dados que armazenam pares de chave-valor. Sua vantagem é facilitar o acesso aos valores por meio das chaves.\n",
        "\n",
        "'''\n",
        "\n",
        "Um dicionário pode ser criado de forma semelhante aos conjuntos, entre chaves e com pares de elementos separados entre vírgulas.\n",
        "Porém, cada par de elemento contém dois valores separados por dois-pontos (:), onde o primeiro valor é a chave e o segundo é o valor associado.\n",
        "\n",
        "Vamos exemplificar com um dicionário que armazena nomes e notas de estudantes. O primeiro par é composto pela chave \"nome\", cujo valor é a string \"Ana\". O segundo par é composto pela chave \"nota\", cujo valor é 10.0.\n",
        "\n",
        "\n",
        "dic1 = {\"nome\": \"Ana\", \"nota\": 10.0}\n",
        "\n",
        "Além da forma padrão, também podemos criar dicionários utilizando a função dict(), passando argumentos nomeamos que representam as chaves e seus valores associados:\n",
        "\n",
        "dic2 = dict(nome=\"Eva\", nota=9.4)\n",
        "\n"
      ],
      "metadata": {
        "id": "8YHjMUDtJKta"
      },
      "execution_count": null,
      "outputs": []
    },
    {
      "cell_type": "markdown",
      "source": [
        "Criando dicionários com listas de tuplas"
      ],
      "metadata": {
        "id": "W1d6T6HtYFka"
      }
    },
    {
      "cell_type": "code",
      "source": [
        "'''\n",
        "\n",
        "Além disso, é possível criar dicionários a partir de listas de tuplas, onde cada tupla deve conter dois elementos, a chave e o valor.\n",
        "\n",
        "No código de exemplo, vamos criar uma lista de tupla com dois pares chave-valor. Em seguida, passamos a lista de tuplas para a função de dict() e recebemos um dicionário com os dados organizados de forma estruturada.\n",
        "\n",
        "'''\n",
        "\n",
        "lista_de_tuplas = [(\"nome\", \"Ana\"), (\"nota\", 10.0)]\n",
        "dicionario = dict(lista_de_tuplas)\n",
        "print(dicionario)\n",
        "# Saída: {'nome': 'Ana', 'nota': 10.0}\n",
        "\n"
      ],
      "metadata": {
        "colab": {
          "base_uri": "https://localhost:8080/"
        },
        "id": "b4V2qOOxYCok",
        "outputId": "a0264215-64d1-44e8-d7ca-3293fe90263d"
      },
      "execution_count": null,
      "outputs": [
        {
          "output_type": "stream",
          "name": "stdout",
          "text": [
            "{'nome': 'Ana', 'nota': 10.0}\n"
          ]
        }
      ]
    },
    {
      "cell_type": "markdown",
      "source": [
        "Identificando tipos permitidos para chaves e valores"
      ],
      "metadata": {
        "id": "qLMd71GEZ_Xm"
      }
    },
    {
      "cell_type": "code",
      "source": [
        "'''\n",
        "\n",
        "As chaves dos dicionários devem ser, obrigatoriamente, valores imutáveis, como strings, números (inteiros ou pontos flutuantes) e tuplas (desde que todos os elementos também sejam imutáveis). Por isso, as chaves não podem ser listas ou dicionários, pois são elementos mutáveis.\n",
        "\n",
        "No código de exemplo, criamos um dicionário válido com três pares chave-valor, cujas chaves são inteiro, string e tupla, respectivamente. Note que um dicionário pode conter vários tipos diferentes de chaves.\n",
        "\n",
        "Se tentamos criar um dicionário que contém uma lista como chave, obteremos um erro de tipo, pois não será um dicionário válido.\n",
        "\n",
        "'''\n",
        "\n",
        "dicionario_valido = {1: \"um\", \"dois\": 2, (3, 4): \"par\"}\n",
        "dicionario_invalido = {[1, 2]: \"lista\"}  # Saída: TypeError: unhashable type: 'list'\n"
      ],
      "metadata": {
        "colab": {
          "base_uri": "https://localhost:8080/",
          "height": 176
        },
        "id": "cK2ACKtkJKv_",
        "outputId": "0f18135a-8e9d-44fc-cc7f-a4fb390a1af6"
      },
      "execution_count": null,
      "outputs": [
        {
          "output_type": "error",
          "ename": "TypeError",
          "evalue": "unhashable type: 'list'",
          "traceback": [
            "\u001b[0;31m---------------------------------------------------------------------------\u001b[0m",
            "\u001b[0;31mTypeError\u001b[0m                                 Traceback (most recent call last)",
            "\u001b[0;32m<ipython-input-6-10133db83c0f>\u001b[0m in \u001b[0;36m<cell line: 0>\u001b[0;34m()\u001b[0m\n\u001b[1;32m     10\u001b[0m \u001b[0;34m\u001b[0m\u001b[0m\n\u001b[1;32m     11\u001b[0m \u001b[0mdicionario_valido\u001b[0m \u001b[0;34m=\u001b[0m \u001b[0;34m{\u001b[0m\u001b[0;36m1\u001b[0m\u001b[0;34m:\u001b[0m \u001b[0;34m\"um\"\u001b[0m\u001b[0;34m,\u001b[0m \u001b[0;34m\"dois\"\u001b[0m\u001b[0;34m:\u001b[0m \u001b[0;36m2\u001b[0m\u001b[0;34m,\u001b[0m \u001b[0;34m(\u001b[0m\u001b[0;36m3\u001b[0m\u001b[0;34m,\u001b[0m \u001b[0;36m4\u001b[0m\u001b[0;34m)\u001b[0m\u001b[0;34m:\u001b[0m \u001b[0;34m\"par\"\u001b[0m\u001b[0;34m}\u001b[0m\u001b[0;34m\u001b[0m\u001b[0;34m\u001b[0m\u001b[0m\n\u001b[0;32m---> 12\u001b[0;31m \u001b[0mdicionario_invalido\u001b[0m \u001b[0;34m=\u001b[0m \u001b[0;34m{\u001b[0m\u001b[0;34m[\u001b[0m\u001b[0;36m1\u001b[0m\u001b[0;34m,\u001b[0m \u001b[0;36m2\u001b[0m\u001b[0;34m]\u001b[0m\u001b[0;34m:\u001b[0m \u001b[0;34m\"lista\"\u001b[0m\u001b[0;34m}\u001b[0m  \u001b[0;31m# Saída: TypeError: unhashable type: 'list'\u001b[0m\u001b[0;34m\u001b[0m\u001b[0;34m\u001b[0m\u001b[0m\n\u001b[0m",
            "\u001b[0;31mTypeError\u001b[0m: unhashable type: 'list'"
          ]
        }
      ]
    },
    {
      "cell_type": "code",
      "source": [
        "'''\n",
        "\n",
        "Os valores, por outro lado, podem ser de qualquer tipo de dado, incluindo strings, números, tuplas, listas, dicionários e até mesmo objetos personalizados.\n",
        "\n",
        "Confira esse exemplo de dicionário válido com diversos tipos de valores:\n",
        "\n",
        "'''\n",
        "\n",
        "dicionario = {\n",
        "    \"nome\": \"João\",\n",
        "    \"idade\": 25,\n",
        "    \"notas\": [10.0, 6.3, 7.5],\n",
        "    \"endereco\": {\"cidade\": \"São Paulo\", \"bairro\": \"Centro\"}\n",
        "}\n"
      ],
      "metadata": {
        "id": "lP7HWzwjJKyd"
      },
      "execution_count": null,
      "outputs": []
    },
    {
      "cell_type": "markdown",
      "source": [
        "Acessando e modificando elementos"
      ],
      "metadata": {
        "id": "Vf0IC1eJauRK"
      }
    },
    {
      "cell_type": "code",
      "source": [
        "'''\n",
        "\n",
        "Podemos acessar e modificar dados em dicionários utilizando colchetes []. A vantagem do dicionário é exatamente ter acesso fácil aos valores associados às chaves.\n",
        "\n",
        "Para acessar um valor, basta usar o nome do dicionário seguido do nome da chave entre colchetes. Para modificar esse valor, basta atribuir um novo valor à chave através do sinal de igual. Vamos conferir um exemplo.\n",
        "\n",
        "\n",
        "'''\n",
        "\n",
        "# Considere dic = {\"nome\": \"Ana\", \"nota\": 10.0}:\n",
        "\n",
        "\n",
        "'''\n",
        "\n",
        "nome_dicionario[chave]\tAcessar um valor por uma chave.\tdic[\"nome\"]\tAna\n",
        "nome_dicionario[chave] = valor\tAtribuir um valor a uma chave.\tdic[\"nota\"] = 9.2\t{\"nome\": \"Ana\", \"nota\": 9.2}\n",
        "del nome_dicionario[chave]\tRemover um item específico.\tdel dic[\"nome\"]\t{\"nota\": 9.2}\n",
        "\n",
        "\n",
        "lém disso, podemos acessar e modificar dicionário da mesma maneira que é feito em conjuntos, isto é,\n",
        "utilizando os métodos in e not in. Esperamos um booleano como retorno, caso o elemento esteja presente ou ausente do dicionário.\n",
        "\n",
        "# Considere dic = {\"nome\": \"Ana\", \"nota\": 10.0}:\n",
        "\n",
        "in\tVerifica se uma chave está presente no dicionário. Retorna True se a chave existir e False caso contrário.\tprint(\"nome\" in dic)\n",
        "\n",
        "print(\"idade\" in dic)\n",
        "\tTrue\n",
        "\n",
        "False\n",
        "not in\tVerifica se uma chave não está presente no dicionário. Retorna True se a chave não existir e False caso contrário.\tprint(\"idade\" not in dic)\tTrue\n",
        "\n",
        "\n",
        "\n",
        "'''"
      ],
      "metadata": {
        "id": "0JDapUjiJK09"
      },
      "execution_count": null,
      "outputs": []
    },
    {
      "cell_type": "markdown",
      "source": [
        "Explorando métodos de manipulação"
      ],
      "metadata": {
        "id": "LZHlZhpvbO4i"
      }
    },
    {
      "cell_type": "code",
      "source": [
        "'''\n",
        "\n",
        "\n",
        "keys()\tRetorna as chaves do dicionário.\tdicionario.keys()\tdict_keys(['nome', 'idade'])\n",
        "values()\tRetorna os valores do dicionário.\tdicionario.values()\tdict_values(['João', 28])\n",
        "items()\tRetorna pares (chave, valor) como tuplas.\tdicionario.items()\tdict_items([('nome', 'João'), ('idade', 28)])\n",
        "len(dicionario)\tConta quantos pares (chave, valor) o dicionário possui.\tlen(dicionario)\t2\n",
        "\n",
        "get(chave, padrão=None)\tObtém um valor sem erro se a chave não existir.\tdicionario.get(\"nome\")\n",
        "\n",
        "dicionario.get(\"altura\", \"Não informado!\")\n",
        "\tAna\n",
        "\n",
        "Não Informado!\n",
        "pop(chave, padrão)\tRemove uma chave e retorna seu valor. Se o padrão não for fornecido e a chave não existir, um KeyError é levantado.\tdicionario.pop(\"idade\")\t{\"nome\": \"João\"}\n",
        "list(dicionario)\tUsada para obter todas as chaves do dicionário em forma de lista.\tchaves = list(dicionario)\n",
        "\n",
        "print(chaves)\n",
        "\t[\"nome\"]\n",
        "clear()\tApaga todos os itens do dicionário.\tdicionario.clear()\t{}\n",
        "\n",
        "\n",
        "popitem()\tRemove e retorna o último par (chave, valor) inserido. Se o dicionário estiver vazio, um KeyError é levantado.\tdicionario.popitem()\t{\"a\": 1, \"b\": 2}\n",
        "reversed(dicionario)\tRetorna um iterador sobre as chaves do dicionário em ordem reversa.\tprint(list(reversed(dicionario)))\t[\"b\", \"a\"]\n",
        "update(outro)\tAtualiza o dicionário com outro mapeamento.\tdicionario.update({\"a\": 1.0, \"d\": 4})\t{\"a\": 1.0, \"b\": 2, \"d\": 4}\n",
        "copy()\tRetorna uma cópia rasa do dicionário.\tcopia = dicionario.copy()\n",
        "\n",
        "print(copia)\n",
        "\t{\"a\": 1.0, \"b\": 2, \"d\": 4}\n",
        "\n"
      ],
      "metadata": {
        "id": "CrnO_k50amS7"
      },
      "execution_count": null,
      "outputs": []
    },
    {
      "cell_type": "markdown",
      "source": [
        "Integrando conjuntos e dicionários"
      ],
      "metadata": {
        "id": "tyQ9vRx9bzNb"
      }
    },
    {
      "cell_type": "code",
      "source": [
        "'''\n",
        "\n",
        "Vamos entender como integrar conjuntos e dicionários? Para exemplificar, vamos criar um dicionário de estoque com duas chaves, \"frutas\" e \"verduras\", onde cada chave tem um conjunto associado.\n",
        "\n",
        "'''\n",
        "\n",
        "estoque = {\n",
        "  \"frutas\": {\"maça\", \"uva\"},\n",
        "  \"verduras\": {\"cenoura\", \"alface\"}\n",
        "}\n",
        "\n",
        "'''\n",
        "\n",
        "Para acessar ou modificar itens nesse dicionário, utilizamos a estrutura dicionario[chave] seguida dos métodos de conjunto, como add() para adicionar elementos ou discard() para remover.\n",
        "\n",
        "'''\n",
        "\n",
        "estoque[\"frutas\"].add(\"morango\")\n",
        "estoque[\"verduras\"].discard(\"alface\")\n",
        "\n",
        "print(estoque)\n",
        "# Saída: {'frutas: {'maça', 'morango', 'uva'}, 'verduras': {'cenoura'}}\n",
        "\n",
        "\n"
      ],
      "metadata": {
        "colab": {
          "base_uri": "https://localhost:8080/"
        },
        "id": "znzN524FamVl",
        "outputId": "9e66ccad-7b08-4533-f795-cbcb905d4b05"
      },
      "execution_count": null,
      "outputs": [
        {
          "output_type": "stream",
          "name": "stdout",
          "text": [
            "{'frutas': {'maça', 'morango', 'uva'}, 'verduras': {'cenoura'}}\n"
          ]
        }
      ]
    },
    {
      "cell_type": "code",
      "source": [
        "convidados = []\n",
        "\n",
        "\n",
        "while True:\n",
        "\n",
        "    nome = input(\"Digite o nome do convidado ou 'sair' para encerrar: \")\n",
        "\n",
        "    if nome.lower() == 'sair':  # Comparação em minúsculas\n",
        "        break\n",
        "\n",
        "    else:\n",
        "        convidados.append(nome)\n",
        "\n",
        "\n",
        "print(f\"Convidados confirmados: {', '.join(convidados)}\")"
      ],
      "metadata": {
        "colab": {
          "base_uri": "https://localhost:8080/",
          "height": 460
        },
        "id": "jyWdUgwK8On3",
        "outputId": "d84803d2-95a4-415f-f1f9-a62c7a2ba443"
      },
      "execution_count": null,
      "outputs": [
        {
          "name": "stdout",
          "output_type": "stream",
          "text": [
            "Digite o nome do convidado ou 'sair' para encerrar: Ana \n",
            "Digite o nome do convidado ou 'sair' para encerrar: Joao \n",
            "Digite o nome do convidado ou 'sair' para encerrar: Carla \n",
            "Digite o nome do convidado ou 'sair' para encerrar: sair \n",
            "Digite o nome do convidado ou 'sair' para encerrar: sair \n",
            "Digite o nome do convidado ou 'sair' para encerrar: sair \n"
          ]
        },
        {
          "output_type": "error",
          "ename": "KeyboardInterrupt",
          "evalue": "Interrupted by user",
          "traceback": [
            "\u001b[0;31m---------------------------------------------------------------------------\u001b[0m",
            "\u001b[0;31mKeyboardInterrupt\u001b[0m                         Traceback (most recent call last)",
            "\u001b[0;32m<ipython-input-30-1250f12b2d06>\u001b[0m in \u001b[0;36m<cell line: 0>\u001b[0;34m()\u001b[0m\n\u001b[1;32m      4\u001b[0m \u001b[0;32mwhile\u001b[0m \u001b[0;32mTrue\u001b[0m\u001b[0;34m:\u001b[0m\u001b[0;34m\u001b[0m\u001b[0;34m\u001b[0m\u001b[0m\n\u001b[1;32m      5\u001b[0m \u001b[0;34m\u001b[0m\u001b[0m\n\u001b[0;32m----> 6\u001b[0;31m     \u001b[0mnome\u001b[0m \u001b[0;34m=\u001b[0m \u001b[0minput\u001b[0m\u001b[0;34m(\u001b[0m\u001b[0;34m\"Digite o nome do convidado ou 'sair' para encerrar: \"\u001b[0m\u001b[0;34m)\u001b[0m\u001b[0;34m\u001b[0m\u001b[0;34m\u001b[0m\u001b[0m\n\u001b[0m\u001b[1;32m      7\u001b[0m \u001b[0;34m\u001b[0m\u001b[0m\n\u001b[1;32m      8\u001b[0m     \u001b[0;32mif\u001b[0m \u001b[0mnome\u001b[0m\u001b[0;34m.\u001b[0m\u001b[0mlower\u001b[0m\u001b[0;34m(\u001b[0m\u001b[0;34m)\u001b[0m \u001b[0;34m==\u001b[0m \u001b[0;34m'sair'\u001b[0m\u001b[0;34m:\u001b[0m  \u001b[0;31m# Comparação em minúsculas\u001b[0m\u001b[0;34m\u001b[0m\u001b[0;34m\u001b[0m\u001b[0m\n",
            "\u001b[0;32m/usr/local/lib/python3.11/dist-packages/ipykernel/kernelbase.py\u001b[0m in \u001b[0;36mraw_input\u001b[0;34m(self, prompt)\u001b[0m\n\u001b[1;32m   1175\u001b[0m                 \u001b[0;34m\"raw_input was called, but this frontend does not support input requests.\"\u001b[0m\u001b[0;34m\u001b[0m\u001b[0;34m\u001b[0m\u001b[0m\n\u001b[1;32m   1176\u001b[0m             )\n\u001b[0;32m-> 1177\u001b[0;31m         return self._input_request(\n\u001b[0m\u001b[1;32m   1178\u001b[0m             \u001b[0mstr\u001b[0m\u001b[0;34m(\u001b[0m\u001b[0mprompt\u001b[0m\u001b[0;34m)\u001b[0m\u001b[0;34m,\u001b[0m\u001b[0;34m\u001b[0m\u001b[0;34m\u001b[0m\u001b[0m\n\u001b[1;32m   1179\u001b[0m             \u001b[0mself\u001b[0m\u001b[0;34m.\u001b[0m\u001b[0m_parent_ident\u001b[0m\u001b[0;34m[\u001b[0m\u001b[0;34m\"shell\"\u001b[0m\u001b[0;34m]\u001b[0m\u001b[0;34m,\u001b[0m\u001b[0;34m\u001b[0m\u001b[0;34m\u001b[0m\u001b[0m\n",
            "\u001b[0;32m/usr/local/lib/python3.11/dist-packages/ipykernel/kernelbase.py\u001b[0m in \u001b[0;36m_input_request\u001b[0;34m(self, prompt, ident, parent, password)\u001b[0m\n\u001b[1;32m   1217\u001b[0m             \u001b[0;32mexcept\u001b[0m \u001b[0mKeyboardInterrupt\u001b[0m\u001b[0;34m:\u001b[0m\u001b[0;34m\u001b[0m\u001b[0;34m\u001b[0m\u001b[0m\n\u001b[1;32m   1218\u001b[0m                 \u001b[0;31m# re-raise KeyboardInterrupt, to truncate traceback\u001b[0m\u001b[0;34m\u001b[0m\u001b[0;34m\u001b[0m\u001b[0m\n\u001b[0;32m-> 1219\u001b[0;31m                 \u001b[0;32mraise\u001b[0m \u001b[0mKeyboardInterrupt\u001b[0m\u001b[0;34m(\u001b[0m\u001b[0;34m\"Interrupted by user\"\u001b[0m\u001b[0;34m)\u001b[0m \u001b[0;32mfrom\u001b[0m \u001b[0;32mNone\u001b[0m\u001b[0;34m\u001b[0m\u001b[0;34m\u001b[0m\u001b[0m\n\u001b[0m\u001b[1;32m   1220\u001b[0m             \u001b[0;32mexcept\u001b[0m \u001b[0mException\u001b[0m\u001b[0;34m:\u001b[0m\u001b[0;34m\u001b[0m\u001b[0;34m\u001b[0m\u001b[0m\n\u001b[1;32m   1221\u001b[0m                 \u001b[0mself\u001b[0m\u001b[0;34m.\u001b[0m\u001b[0mlog\u001b[0m\u001b[0;34m.\u001b[0m\u001b[0mwarning\u001b[0m\u001b[0;34m(\u001b[0m\u001b[0;34m\"Invalid Message:\"\u001b[0m\u001b[0;34m,\u001b[0m \u001b[0mexc_info\u001b[0m\u001b[0;34m=\u001b[0m\u001b[0;32mTrue\u001b[0m\u001b[0;34m)\u001b[0m\u001b[0;34m\u001b[0m\u001b[0;34m\u001b[0m\u001b[0m\n",
            "\u001b[0;31mKeyboardInterrupt\u001b[0m: Interrupted by user"
          ]
        }
      ]
    },
    {
      "cell_type": "code",
      "source": [
        "'''\n",
        "\n",
        "Clara é editora de uma revista e deseja comparar dois artigos para identificar quais palavras aparecem em ambos. Sua tarefa é criar um programa que receba dois textos e exiba o conjunto de palavras comuns entre eles.\n",
        "\n",
        "'''\n",
        "\n",
        "\n",
        "texto1 = set(input(\"Texto 1: \").lower().split())\n",
        "\n",
        "texto2 = set(input(\"Texto 2: \").lower().split())\n",
        "\n",
        "comuns = texto1.intersection(texto2)\n",
        "\n",
        "print(f\"Palavras em comum: {comuns}\")\n"
      ],
      "metadata": {
        "colab": {
          "base_uri": "https://localhost:8080/"
        },
        "id": "uSHwqRPi8Oqw",
        "outputId": "748c075c-ddd3-4a48-9f92-7a8df9af47e1"
      },
      "execution_count": null,
      "outputs": [
        {
          "output_type": "stream",
          "name": "stdout",
          "text": [
            "Texto 1: O sol brilha forte no céu azul \n",
            "Texto 2: O céu azul anuncia um dia de sol intenso\n",
            "Palavras em comum: {'o', 'azul', 'céu', 'sol'}\n"
          ]
        }
      ]
    },
    {
      "cell_type": "code",
      "source": [
        "'''\n",
        "\n",
        "Laura e Ana resolveram fazer compras juntas, mas criaram duas listas diferentes. Elas querem um programa que mostre:\n",
        "\n",
        "    Quais itens apareceram nas duas listas\n",
        "\n",
        "    Quais foram exclusivos de Laura\n",
        "\n",
        "    Quais foram exclusivos da Ana\n",
        "\n",
        "Escreva um programa que solicite as listas e mostre os resultados dessas comparações.\n",
        "\n",
        "'''\n",
        "\n",
        "\n",
        "\n",
        "laura = set(input(\"Lista da Laura: \").split(\", \"))\n",
        "\n",
        "ana = set(input(\"Lista da Ana: \").split(\", \"))\n",
        "\n",
        "comuns = laura.intersection(ana)\n",
        "\n",
        "exclusivos_laura = laura.difference(ana)\n",
        "\n",
        "exlusivos_ana = ana.difference(laura)\n",
        "\n",
        "print(f\"Itens em ambas as listas: {', '.join(comuns)}\")\n",
        "\n",
        "print(f\"Itens exclusivos de Laura: {', '.join(exclusivos_laura)}\")\n",
        "\n",
        "print(f\"Itens exclusivos de Ana: {', '.join(exlusivos_ana)}\")\n",
        "\n",
        "\n",
        "\n"
      ],
      "metadata": {
        "colab": {
          "base_uri": "https://localhost:8080/"
        },
        "id": "9rn-74yN8OtW",
        "outputId": "b44eff06-1e0c-4bbe-857c-0d617145f4da"
      },
      "execution_count": 2,
      "outputs": [
        {
          "output_type": "stream",
          "name": "stdout",
          "text": [
            "Lista da Laura: leite \n",
            "Lista da Ana: acucar \n",
            "Itens em ambas as listas: \n",
            "Itens exclusivos de Laura: leite \n",
            "Itens exclusivos de Ana: acucar \n"
          ]
        }
      ]
    },
    {
      "cell_type": "code",
      "source": [
        "'''\n",
        "\n",
        "Marina trabalha no setor de segurança de uma empresa e precisa verificar se um determinado conjunto de permissões faz parte das permissões principais de um sistema.\n",
        "Sua tarefa é desenvolver um programa que receba duas listas de permissões e verifique se a segunda lista está contida na primeira. '''\n",
        "\n",
        "\n",
        "\n",
        "permissoes_principais = set(input(\"Permissões principais: \").strip().lower().split(','))\n",
        "\n",
        "permissoes_solicitadas = set(input(\"Permissões solicitadas: \").strip().lower().split(','))\n",
        "\n",
        "for i in range(len(permissoes_principais)):\n",
        "\n",
        "    permissoes_principais[i] = permissoes_principais[i].strip()\n",
        "\n",
        "for i in range(len(permissoes_solicitadas)):\n",
        "\n",
        "    permissoes_solicitadas[i] = permissoes_solicitadas[i].strip()\n",
        "\n",
        "eh_subconjunto = permissoes_solicitadas.issubset(permissoes_principais)\n",
        "\n",
        "if eh_subconjunto:\n",
        "\n",
        "    print(\"As permissões solicitadas fazem parte das permissões principais.\")\n",
        "\n",
        "else:\n",
        "\n",
        "    print(\"As permissões solicitadas não fazem parte das permissões principais.\")\n",
        "\n"
      ],
      "metadata": {
        "id": "CdRyoHh8CNur"
      },
      "execution_count": null,
      "outputs": []
    },
    {
      "cell_type": "code",
      "source": [
        "'''\n",
        "\n",
        "Joana é gerente de projetos e precisa consolidar as listas de tarefas de duas equipes distintas. Após unir as listas,\n",
        "ela quer remover uma tarefa específica informada pelo usuário. Sua tarefa é criar um programa que realize essa operação. '''\n",
        "\n",
        "\n",
        "\n",
        "equipe_a = {\"planejar reunião\", \"revisar documento\", \"testar sistema\"}\n",
        "\n",
        "equipe_b = {\"testar sistema\", \"implementar funcionalidade\", \"corrigir bug\"}\n",
        "\n",
        "tarefas_combinadas = equipe_a.union(equipe_b)\n",
        "\n",
        "tarefa_remover = input(\"Tarefa a ser removida: \").lower()\n",
        "\n",
        "if tarefa_remover in tarefas_combinadas:\n",
        "\n",
        "    tarefas_combinadas.remove(tarefa_remover)\n",
        "\n",
        "print(f\"Tarefas finais: {tarefas_combinadas}\")\n"
      ],
      "metadata": {
        "id": "MxU9mOKGCNxo",
        "colab": {
          "base_uri": "https://localhost:8080/"
        },
        "outputId": "b2d2a95a-65fc-486e-bb36-dd0a55674abf"
      },
      "execution_count": 3,
      "outputs": [
        {
          "output_type": "stream",
          "name": "stdout",
          "text": [
            "Tarefa a ser removida: testar \n",
            "Tarefas finais: {'revisar documento', 'implementar funcionalidade', 'planejar reunião', 'corrigir bug', 'testar sistema'}\n"
          ]
        }
      ]
    },
    {
      "cell_type": "code",
      "source": [
        "'''\n",
        "\n",
        "\n",
        "Ana é responsável pelo controle de estoque de uma loja de artigos para papelaria. Ela precisa de um programa que permita cadastrar produtos em forma de dados estruturados.\n",
        "O sistema deve solicitar o nome e a quantidade de três produtos e, ao final, exibir as informações cadastradas em um dicionário, onde cada produto será uma chave e a quantidade correspondente será o valor. '''\n",
        "\n",
        "\n",
        "\n",
        "dicionario_produtos = {}\n",
        "\n",
        "for i in range(3):\n",
        "\n",
        "    nome = input(\"Digite o nome do produto: \")\n",
        "\n",
        "    quantidade = int(input(\"Digite a quantidade: \"))\n",
        "\n",
        "    dicionario_produtos[nome] = quantidade\n",
        "\n",
        "print(f\"Dicionário de produtos: {dicionario_produtos}\")\n"
      ],
      "metadata": {
        "id": "jL86HIhCCN0V",
        "colab": {
          "base_uri": "https://localhost:8080/"
        },
        "outputId": "5f237955-e282-4a07-b9a0-08d34c1e6170"
      },
      "execution_count": 5,
      "outputs": [
        {
          "output_type": "stream",
          "name": "stdout",
          "text": [
            "Digite o nome do produto: Caderno \n",
            "Digite a quantidade: 10\n",
            "Digite o nome do produto: Caneta \n",
            "Digite a quantidade: 5\n",
            "Digite o nome do produto: Borracha \n",
            "Digite a quantidade: 5\n",
            "Dicionário de produtos: {'Caderno ': 10, 'Caneta ': 5, 'Borracha ': 5}\n"
          ]
        }
      ]
    },
    {
      "cell_type": "code",
      "source": [
        "'''\n",
        "\n",
        "Ana percebeu que, após o cadastro inicial dos produtos, precisa atualizar a quantidade de um item específico no estoque. Sua tarefa é criar um programa que solicite o nome do produto e a nova quantidade, atualizando essa informação no dicionário de estoque. '''\n",
        "\n",
        "\n",
        "\n",
        "estoque = {\n",
        "\n",
        "    \"Caderno universitário\": 50,\n",
        "\n",
        "    \"Caneta azul\": 120,\n",
        "\n",
        "    \"Borracha branca\": 30\n",
        "\n",
        "}\n",
        "\n",
        "produto = input(\"Digite o nome do produto a ser atualizado: \")\n",
        "\n",
        "nova_quantidade = int(input(\"Digite a nova quantidade: \"))\n",
        "\n",
        "if produto in estoque:\n",
        "\n",
        "    estoque[produto] = nova_quantidade\n",
        "\n",
        "    print(\"Quantidade atualizada com sucesso!\")\n",
        "\n",
        "    print(estoque)\n",
        "\n",
        "else:\n",
        "\n",
        "    print(\"Produto não encontrado no estoque.\")\n"
      ],
      "metadata": {
        "id": "axx0NzISCN3S"
      },
      "execution_count": null,
      "outputs": []
    },
    {
      "cell_type": "code",
      "source": [
        "''' Lucas é voluntário na organização de uma maratona e recebeu a lista de participantes com suas respectivas idades. Agora, ele precisa de um programa que apresente três informações:\n",
        "\n",
        "    Os nomes de todos os participantes.\n",
        "\n",
        "    As idades de todos os participantes.\n",
        "\n",
        "    Uma relação completa com o nome e a idade de cada um.\n",
        "\n",
        "Sua tarefa é criar esse programa com base nas informações fornecidas.\n",
        "\n",
        "Exemplo de entrada:\n",
        "\n",
        "\n",
        "participantes = {\n",
        "\n",
        "    \"Mariana\": 25,\n",
        "\n",
        "    \"Carlos\": 32,\n",
        "\n",
        "    \"Beatriz\": 28,\n",
        "\n",
        "    \"Rafael\": 35\n",
        "\n",
        "} '''\n",
        "\n",
        "\n",
        "\n",
        "\n",
        "participantes = {\n",
        "\n",
        "    \"Workshop 1\": {\"Alice\", \"Bruno\", \"Carla\", \"Diego\"},\n",
        "\n",
        "    \"Workshop 2\": {\"Fernanda\", \"Gustavo\", \"Helena\"}\n",
        "\n",
        "}\n",
        "\n",
        "nome_remover = input(\"Digite o nome do participante a ser removido: \")\n",
        "\n",
        "for workshop, nomes in participantes.items():\n",
        "\n",
        "    nomes.discard(nome_remover)\n",
        "\n",
        "print(\"Lista atualizada de participantes:\")\n",
        "\n",
        "for workshop, nomes in participantes.items():\n",
        "\n",
        "    print(f\"{workshop}: {nomes}\")\n"
      ],
      "metadata": {
        "id": "7Vww8-Sehw3P"
      },
      "execution_count": null,
      "outputs": []
    },
    {
      "cell_type": "code",
      "source": [
        "'''\n",
        "\n",
        "Nathalia é gerente de uma loja virtual e precisa de um sistema que receba os registros de vendas organizados por categoria de produto. Cada categoria contém uma lista de dicionários representando as vendas individuais, com informações sobre o produto, a quantidade vendida e o valor unitário. Sua tarefa é criar um programa que exiba o total de vendas por categoria.\n",
        "\n",
        "Exemplo de entrada:\n",
        "\n",
        "\n",
        "\n",
        "vendas = {\n",
        "\n",
        "    \"Eletrônicos\": [\n",
        "\n",
        "        {\"produto\": \"Smartphone\", \"quantidade\": 5, \"valor_unitario\": 2000},\n",
        "\n",
        "        {\"produto\": \"Tablet\", \"quantidade\": 3, \"valor_unitario\": 1500}\n",
        "\n",
        "    ],\n",
        "\n",
        "    \"Eletrodomésticos\": [\n",
        "\n",
        "        {\"produto\": \"Geladeira\", \"quantidade\": 2, \"valor_unitario\": 3000},\n",
        "\n",
        "        {\"produto\": \"Micro-ondas\", \"quantidade\": 4, \"valor_unitario\": 800}\n",
        "\n",
        "    ],\n",
        "\n",
        "    \"Livros\": [\n",
        "\n",
        "        {\"produto\": \"Livro A\", \"quantidade\": 10, \"valor_unitario\": 50},\n",
        "\n",
        "        {\"produto\": \"Livro B\", \"quantidade\": 5, \"valor_unitario\": 100}\n",
        "\n",
        "    ]\n",
        "\n",
        "}\n",
        "'''\n",
        "\n",
        "\n",
        "\n",
        "vendas = {\n",
        "\n",
        "    \"Eletrônicos\": [\n",
        "\n",
        "        {\"produto\": \"Smartphone\", \"quantidade\": 5, \"valor_unitario\": 2000},\n",
        "\n",
        "        {\"produto\": \"Tablet\", \"quantidade\": 3, \"valor_unitario\": 1500}\n",
        "\n",
        "    ],\n",
        "\n",
        "    \"Eletrodomésticos\": [\n",
        "\n",
        "        {\"produto\": \"Geladeira\", \"quantidade\": 2, \"valor_unitario\": 3000},\n",
        "\n",
        "        {\"produto\": \"Micro-ondas\", \"quantidade\": 4, \"valor_unitario\": 800}\n",
        "\n",
        "    ],\n",
        "\n",
        "    \"Livros\": [\n",
        "\n",
        "        {\"produto\": \"Livro A\", \"quantidade\": 10, \"valor_unitario\": 50},\n",
        "\n",
        "        {\"produto\": \"Livro B\", \"quantidade\": 5, \"valor_unitario\": 100}\n",
        "\n",
        "    ]\n",
        "\n",
        "}\n",
        "\n",
        "print(\"Total de vendas por categoria:\")\n",
        "\n",
        "for categoria, itens in vendas.items():\n",
        "\n",
        "    total = 0\n",
        "\n",
        "    for item in itens:\n",
        "\n",
        "        total += item[\"quantidade\"] * item[\"valor_unitario\"]\n",
        "\n",
        "    print(f\"- {categoria}: R$ {total:.2f}\")\n",
        "\n"
      ],
      "metadata": {
        "colab": {
          "base_uri": "https://localhost:8080/"
        },
        "id": "JfOAMN5Chw6H",
        "outputId": "6decafeb-be8e-42a0-b39d-76f01aa726f7"
      },
      "execution_count": 6,
      "outputs": [
        {
          "output_type": "stream",
          "name": "stdout",
          "text": [
            "Total de vendas por categoria:\n",
            "- Eletrônicos: R$ 14500.00\n",
            "- Eletrodomésticos: R$ 9200.00\n",
            "- Livros: R$ 1000.00\n"
          ]
        }
      ]
    },
    {
      "cell_type": "code",
      "source": [],
      "metadata": {
        "id": "_uKLF36Ohw81"
      },
      "execution_count": null,
      "outputs": []
    },
    {
      "cell_type": "code",
      "source": [],
      "metadata": {
        "id": "t44AiJKDhw_F"
      },
      "execution_count": null,
      "outputs": []
    },
    {
      "cell_type": "code",
      "source": [],
      "metadata": {
        "id": "GAtRfgixJK3p"
      },
      "execution_count": null,
      "outputs": []
    }
  ]
}